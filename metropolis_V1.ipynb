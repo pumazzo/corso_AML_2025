{
  "nbformat": 4,
  "nbformat_minor": 0,
  "metadata": {
    "colab": {
      "provenance": [],
      "authorship_tag": "ABX9TyOFJS8YbVslf+a7x9Xme6Lr",
      "include_colab_link": true
    },
    "kernelspec": {
      "name": "python3",
      "display_name": "Python 3"
    },
    "language_info": {
      "name": "python"
    }
  },
  "cells": [
    {
      "cell_type": "markdown",
      "metadata": {
        "id": "view-in-github",
        "colab_type": "text"
      },
      "source": [
        "<a href=\"https://colab.research.google.com/github/pumazzo/corso_AML_2025/blob/main/metropolis_V1.ipynb\" target=\"_parent\"><img src=\"https://colab.research.google.com/assets/colab-badge.svg\" alt=\"Open In Colab\"/></a>"
      ]
    },
    {
      "cell_type": "code",
      "execution_count": 1,
      "metadata": {
        "id": "ZsIXKvrpdXMi"
      },
      "outputs": [],
      "source": [
        "import numpy as np\n",
        "import math\n",
        "import time\n",
        "import matplotlib.pyplot as plt\n",
        "\n"
      ]
    },
    {
      "cell_type": "code",
      "source": [
        "def metreopolis_step(lattice, beta, L):\n",
        "\n",
        "  for r in range(L*L):\n",
        "    i = np.random.randint(0, L)\n",
        "    j = np.random.randint(0, L)\n",
        "\n",
        "    # i valori dei 4 spin vicini #sopra, sotto, destra, sinistra\n",
        "    up = lattice[(i-1)%L,j]\n",
        "    down = lattice[(i+1)%L,j]\n",
        "    right = lattice[i,(j+1)%L]\n",
        "    left = lattice[i,(j-1)%L]\n",
        "\n",
        "    dE = 2*lattice[i,j]*(up+down+right+left)\n",
        "\n",
        "    if beta ==None:\n",
        "       if dE < 0:# step a zero temp\n",
        "        lattice[i,j] = -lattice[i,j]\n",
        "    else:\n",
        "\n",
        "      if dE < 0:\n",
        "        lattice[i,j] = -lattice[i,j]\n",
        "      else:\n",
        "        if np.random.rand() < np.exp(-beta*dE):\n",
        "          lattice[i,j] = -lattice[i,j]\n",
        "\n",
        "  return lattice\n",
        "\n",
        "\n"
      ],
      "metadata": {
        "id": "c7mOSB64gkYm"
      },
      "execution_count": 18,
      "outputs": []
    },
    {
      "cell_type": "code",
      "source": [
        "#lattice random, a caso -1,1 su reticolo\n",
        "L=32\n",
        "lattice = np.random.choice([-1,1], size=(L,L))\n",
        "metreopolis_step(lattice, 1, L).shape# test"
      ],
      "metadata": {
        "colab": {
          "base_uri": "https://localhost:8080/"
        },
        "id": "jGn_BCTUjZyo",
        "outputId": "7de532f6-3ecb-4416-9a0c-2192f0fde62a"
      },
      "execution_count": 19,
      "outputs": [
        {
          "output_type": "execute_result",
          "data": {
            "text/plain": [
              "(32, 32)"
            ]
          },
          "metadata": {},
          "execution_count": 19
        }
      ]
    },
    {
      "cell_type": "code",
      "source": [
        "def compute_magnetization(lattice):\n",
        "  return np.sum(lattice)/lattice.size"
      ],
      "metadata": {
        "id": "gg0dH4aOj48t"
      },
      "execution_count": 20,
      "outputs": []
    },
    {
      "cell_type": "code",
      "source": [
        "compute_magnetization(lattice)"
      ],
      "metadata": {
        "colab": {
          "base_uri": "https://localhost:8080/"
        },
        "id": "ADEmH6gPkXVp",
        "outputId": "63c42512-b14a-4d6e-9df7-a5bd747d9c25"
      },
      "execution_count": 21,
      "outputs": [
        {
          "output_type": "execute_result",
          "data": {
            "text/plain": [
              "np.float64(0.091796875)"
            ]
          },
          "metadata": {},
          "execution_count": 21
        }
      ]
    },
    {
      "cell_type": "code",
      "source": [
        "# simulation loop, ripeti metropoli step per N step, definito da utente\n",
        "def simulation_loop(lattice,n_steps,temperature,L):\n",
        "  magnetizations = np.empty(n_steps)# salviamo la magnetizzazione a ogni tempo\n",
        "\n",
        "  if temperature > 0:\n",
        "    beta = 1/temperature\n",
        "  else:\n",
        "    beta = None\n",
        "\n",
        "  for i in range(n_steps):\n",
        "    lattice = metreopolis_step(lattice, beta, L)\n",
        "    magnetizations[i] = compute_magnetization(lattice)\n",
        "\n",
        "  return lattice, magnetizations"
      ],
      "metadata": {
        "id": "ogpf0M2UkZct"
      },
      "execution_count": 22,
      "outputs": []
    },
    {
      "cell_type": "code",
      "source": [
        "_ =simulation_loop(lattice,100,1,32)"
      ],
      "metadata": {
        "id": "Re-gPXrsk0xP"
      },
      "execution_count": 26,
      "outputs": []
    },
    {
      "cell_type": "code",
      "source": [
        "def ising_simulation(grid_size,temperature, n_steps, initial_state=None):\n",
        "  if initial_state is None:\n",
        "    lattice = np.random.choice([-1,1], size=(grid_size,grid_size))\n",
        "  else:\n",
        "    lattice = initial_state\n",
        "\n",
        "  start_simulation = time.time()# prende il tempo di inizio\n",
        "\n",
        "  lattice,magnetizations = simulation_loop(lattice,n_steps,temperature,grid_size)\n",
        "\n",
        "  total_time = time.time() - start_simulation# misuro intervallo di tempo\n",
        "\n",
        "  return lattice, magnetizations, total_time"
      ],
      "metadata": {
        "id": "9z2AxO9SmLCd"
      },
      "execution_count": 28,
      "outputs": []
    },
    {
      "cell_type": "code",
      "source": [
        "lattice,ms,t=ising_simulation(32,0.1, 100)\n",
        "print(\"simulation time : \",time)"
      ],
      "metadata": {
        "colab": {
          "base_uri": "https://localhost:8080/"
        },
        "id": "mY4PNBo-nQ_i",
        "outputId": "e34b205b-2380-4c15-fefd-3306ed6f88c8"
      },
      "execution_count": 54,
      "outputs": [
        {
          "output_type": "stream",
          "name": "stdout",
          "text": [
            "simulation time :  <module 'time' (built-in)>\n"
          ]
        }
      ]
    },
    {
      "cell_type": "code",
      "source": [
        "1000*13/3600"
      ],
      "metadata": {
        "colab": {
          "base_uri": "https://localhost:8080/"
        },
        "id": "0sjqZUA5nXNw",
        "outputId": "0fd6f73c-280b-48f0-d48c-8c0cf4709b3c"
      },
      "execution_count": 55,
      "outputs": [
        {
          "output_type": "execute_result",
          "data": {
            "text/plain": [
              "3.611111111111111"
            ]
          },
          "metadata": {},
          "execution_count": 55
        }
      ]
    },
    {
      "cell_type": "code",
      "source": [
        "plt.plot(ms)\n",
        "plt.xlabel(\"step\")\n",
        "plt.ylabel(\"magnetization\")\n",
        "plt.show()"
      ],
      "metadata": {
        "colab": {
          "base_uri": "https://localhost:8080/",
          "height": 449
        },
        "id": "nuTiQyLjnjS5",
        "outputId": "9d81efdc-444c-4a57-db11-c1630ef07a67"
      },
      "execution_count": 56,
      "outputs": [
        {
          "output_type": "display_data",
          "data": {
            "text/plain": [
              "<Figure size 640x480 with 1 Axes>"
            ],
            "image/png": "[encoded data removed]"
          },
          "metadata": {}
        }
      ]
    },
    {
      "cell_type": "code",
      "source": [
        "plt.imshow(lattice)\n",
        "plt.show()"
      ],
      "metadata": {
        "colab": {
          "base_uri": "https://localhost:8080/",
          "height": 430
        },
        "id": "bYVROwYeoZCA",
        "outputId": "59660508-21a2-47af-a055-3a84b3d50929"
      },
      "execution_count": 57,
      "outputs": [
        {
          "output_type": "display_data",
          "data": {
            "text/plain": [
              "<Figure size 640x480 with 1 Axes>"
            ],
            "image/png": "[encoded data removed]"
          },
          "metadata": {}
        }
      ]
    },
    {
      "cell_type": "code",
      "source": [],
      "metadata": {
        "id": "7nb7OB4apEOl"
      },
      "execution_count": null,
      "outputs": []
    }
  ]
}