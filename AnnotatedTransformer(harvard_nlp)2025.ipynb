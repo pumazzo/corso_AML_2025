{
  "cells": [
    {
      "cell_type": "markdown",
      "metadata": {
        "id": "view-in-github",
        "colab_type": "text"
      },
      "source": [
        "<a href=\"https://colab.research.google.com/github/pumazzo/corso_AML_2025/blob/main/AnnotatedTransformer(harvard_nlp)2025.ipynb\" target=\"_parent\"><img src=\"https://colab.research.google.com/assets/colab-badge.svg\" alt=\"Open In Colab\"/></a>"
      ]
    },
    {
      "cell_type": "markdown",
      "source": [
        "# The annotated transformer [Original version](http://nlp.seas.harvard.edu/annotated-transformer/)\n",
        "\n",
        "In this handsOn we will reproduce the famous paper \"Attention is All You Need\" [PAPER](https://arxiv.org/abs/1706.03762)\n",
        "\n",
        "Reproduced from the Harvard NLP group [HERE](https://nlp.seas.harvard.edu/)\n",
        "\n",
        "Images are taken from [HERE](https://peterbloem.nl/blog/transformers)"
      ],
      "metadata": {
        "id": "d-OhZRQpcY90"
      },
      "id": "d-OhZRQpcY90"
    },
    {
      "cell_type": "markdown",
      "id": "9a429510",
      "metadata": {
        "id": "9a429510",
        "lines_to_next_cell": 2,
        "tags": []
      },
      "source": [
        "\n",
        "<center><h1>The Annotated Transformer</h1> </center>\n",
        "\n",
        "\n",
        "<center>\n",
        "<p><a href=\"https://arxiv.org/abs/1706.03762\">Attention is All You Need\n",
        "</a></p>\n",
        "</center>\n",
        "\n",
        "<img src=\"https://github.com/pumazzo/annotated-transformer/blob/master/images/aiayn.png?raw=1\" width=\"70%\"/>\n",
        "\n",
        "* *v2022: Austin Huang, Suraj Subramanian, Jonathan Sum, Khalid Almubarak,\n",
        "   and Stella Biderman.*\n",
        "* *[Original](https://nlp.seas.harvard.edu/2018/04/03/attention.html):\n",
        "   [Sasha Rush](http://rush-nlp.com/).*\n",
        "\n",
        "\n",
        "The Transformer has been on a lot of\n",
        "people's minds over the last <s>year</s> five years.\n",
        "This post presents an annotated version of the paper in the\n",
        "form of a line-by-line implementation. It reorders and deletes\n",
        "some sections from the original paper and adds comments\n",
        "throughout. This document itself is a working notebook, and should\n",
        "be a completely usable implementation.\n",
        "Code is available\n",
        "[here](https://github.com/harvardnlp/annotated-transformer/).\n"
      ]
    },
    {
      "cell_type": "markdown",
      "id": "ff96467d",
      "metadata": {
        "id": "ff96467d",
        "lines_to_next_cell": 2
      },
      "source": [
        "<h3> Table of Contents </h3>\n",
        "<ul>\n",
        "<li><a href=\"#prelims\">Prelims</a></li>\n",
        "<li><a href=\"#background\">Background</a></li>\n",
        "<li><a href=\"#part-1-model-architecture\">Part 1: Model Architecture</a></li>\n",
        "<li><a href=\"#model-architecture\">Model Architecture</a><ul>\n",
        "<li><a href=\"#encoder-and-decoder-stacks\">Encoder and Decoder Stacks</a></li>\n",
        "<li><a href=\"#position-wise-feed-forward-networks\">Position-wise Feed-Forward\n",
        "Networks</a></li>\n",
        "<li><a href=\"#embeddings-and-softmax\">Embeddings and Softmax</a></li>\n",
        "<li><a href=\"#positional-encoding\">Positional Encoding</a></li>\n",
        "<li><a href=\"#full-model\">Full Model</a></li>\n",
        "<li><a href=\"#inference\">Inference:</a></li>\n",
        "</ul></li>\n",
        "<li><a href=\"#part-2-model-training\">Part 2: Model Training</a></li>\n",
        "<li><a href=\"#training\">Training</a><ul>\n",
        "<li><a href=\"#batches-and-masking\">Batches and Masking</a></li>\n",
        "<li><a href=\"#training-loop\">Training Loop</a></li>\n",
        "<li><a href=\"#training-data-and-batching\">Training Data and Batching</a></li>\n",
        "<li><a href=\"#hardware-and-schedule\">Hardware and Schedule</a></li>\n",
        "<li><a href=\"#optimizer\">Optimizer</a></li>\n",
        "<li><a href=\"#regularization\">Regularization</a></li>\n",
        "</ul></li>\n",
        "<li><a href=\"#a-first-example\">A First Example</a><ul>\n",
        "<li><a href=\"#synthetic-data\">Synthetic Data</a></li>\n",
        "<li><a href=\"#loss-computation\">Loss Computation</a></li>\n",
        "<li><a href=\"#greedy-decoding\">Greedy Decoding</a></li>\n",
        "</ul></li>\n",
        "<li><a href=\"#part-3-a-real-world-example\">Part 3: A Real World Example</a>\n",
        "<ul>\n",
        "<li><a href=\"#data-loading\">Data Loading</a></li>\n",
        "<li><a href=\"#iterators\">Iterators</a></li>\n",
        "<li><a href=\"#training-the-system\">Training the System</a></li>\n",
        "</ul></li>\n",
        "<li><a href=\"#additional-components-bpe-search-averaging\">Additional\n",
        "Components: BPE, Search, Averaging</a></li>\n",
        "<li><a href=\"#results\">Results</a><ul>\n",
        "<li><a href=\"#attention-visualization\">Attention Visualization</a></li>\n",
        "<li><a href=\"#encoder-self-attention\">Encoder Self Attention</a></li>\n",
        "<li><a href=\"#decoder-self-attention\">Decoder Self Attention</a></li>\n",
        "<li><a href=\"#decoder-src-attention\">Decoder Src Attention</a></li>\n",
        "</ul></li>\n",
        "<li><a href=\"#conclusion\">Conclusion</a></li>\n",
        "</ul>"
      ]
    },
    {
      "cell_type": "markdown",
      "id": "edd0e680",
      "metadata": {
        "id": "edd0e680"
      },
      "source": [
        "# Prelims\n",
        "\n",
        "<a href=\"#background\">Skip</a>"
      ]
    },
    {
      "cell_type": "code",
      "execution_count": 4,
      "id": "493ed0c2",
      "metadata": {
        "execution": {
          "iopub.execute_input": "2022-05-02T01:25:17.534797Z",
          "iopub.status.busy": "2022-05-02T01:25:17.533699Z",
          "iopub.status.idle": "2022-05-02T01:25:17.538114Z",
          "shell.execute_reply": "2022-05-02T01:25:17.537128Z"
        },
        "id": "493ed0c2"
      },
      "outputs": [],
      "source": [
        "# !pip install -r requirements.txt"
      ]
    },
    {
      "cell_type": "code",
      "execution_count": 5,
      "id": "84c7fa96",
      "metadata": {
        "execution": {
          "iopub.execute_input": "2022-05-02T01:25:17.544078Z",
          "iopub.status.busy": "2022-05-02T01:25:17.542981Z",
          "iopub.status.idle": "2022-05-02T01:25:17.545515Z",
          "shell.execute_reply": "2022-05-02T01:25:17.546285Z"
        },
        "id": "84c7fa96",
        "lines_to_next_cell": 2,
        "colab": {
          "base_uri": "https://localhost:8080/"
        },
        "outputId": "a990eab6-ba54-4371-ea98-bbb1ecd337e0"
      },
      "outputs": [
        {
          "output_type": "stream",
          "name": "stdout",
          "text": [
            "  Installing build dependencies ... \u001b[?25l\u001b[?25hdone\n",
            "  Getting requirements to build wheel ... \u001b[?25l\u001b[?25hdone\n",
            "  Preparing metadata (pyproject.toml) ... \u001b[?25l\u001b[?25hdone\n",
            "\u001b[31mERROR: Could not find a version that satisfies the requirement torch==1.11.0 (from torchdata) (from versions: 1.13.0, 1.13.1, 2.0.0, 2.0.1, 2.1.0, 2.1.1, 2.1.2, 2.2.0, 2.2.1, 2.2.2, 2.3.0, 2.3.1, 2.4.0, 2.4.1, 2.5.0, 2.5.1, 2.6.0, 2.7.0)\u001b[0m\u001b[31m\n",
            "\u001b[0m\u001b[31mERROR: No matching distribution found for torch==1.11.0\u001b[0m\u001b[31m\n",
            "\u001b[0m\n",
            "A module that was compiled using NumPy 1.x cannot be run in\n",
            "NumPy 2.0.2 as it may crash. To support both 1.x and 2.x\n",
            "versions of NumPy, modules must be compiled with NumPy 2.0.\n",
            "Some module may need to rebuild instead e.g. with 'pybind11>=2.12'.\n",
            "\n",
            "If you are a user of the module, the easiest solution will be to\n",
            "downgrade to 'numpy<2' or try to upgrade the affected module.\n",
            "We expect that some modules will need time to support NumPy 2.\n",
            "\n",
            "Traceback (most recent call last):  File \"<frozen runpy>\", line 189, in _run_module_as_main\n",
            "  File \"<frozen runpy>\", line 148, in _get_module_details\n",
            "  File \"<frozen runpy>\", line 112, in _get_module_details\n",
            "  File \"/usr/local/lib/python3.11/dist-packages/spacy/__init__.py\", line 6, in <module>\n",
            "    from .errors import setup_default_warnings\n",
            "  File \"/usr/local/lib/python3.11/dist-packages/spacy/errors.py\", line 3, in <module>\n",
            "    from .compat import Literal\n",
            "  File \"/usr/local/lib/python3.11/dist-packages/spacy/compat.py\", line 4, in <module>\n",
            "    from thinc.util import copy_array\n",
            "  File \"/usr/local/lib/python3.11/dist-packages/thinc/__init__.py\", line 5, in <module>\n",
            "    from .config import registry\n",
            "  File \"/usr/local/lib/python3.11/dist-packages/thinc/config.py\", line 5, in <module>\n",
            "    from .types import Decorator\n",
            "  File \"/usr/local/lib/python3.11/dist-packages/thinc/types.py\", line 27, in <module>\n",
            "    from .compat import cupy, has_cupy\n",
            "  File \"/usr/local/lib/python3.11/dist-packages/thinc/compat.py\", line 35, in <module>\n",
            "    import torch\n",
            "  File \"/usr/local/lib/python3.11/dist-packages/torch/__init__.py\", line 1471, in <module>\n",
            "    from .functional import *  # noqa: F403\n",
            "  File \"/usr/local/lib/python3.11/dist-packages/torch/functional.py\", line 9, in <module>\n",
            "    import torch.nn.functional as F\n",
            "  File \"/usr/local/lib/python3.11/dist-packages/torch/nn/__init__.py\", line 1, in <module>\n",
            "    from .modules import *  # noqa: F403\n",
            "  File \"/usr/local/lib/python3.11/dist-packages/torch/nn/modules/__init__.py\", line 35, in <module>\n",
            "    from .transformer import TransformerEncoder, TransformerDecoder, \\\n",
            "  File \"/usr/local/lib/python3.11/dist-packages/torch/nn/modules/transformer.py\", line 20, in <module>\n",
            "    device: torch.device = torch.device(torch._C._get_default_device()),  # torch.device('cpu'),\n",
            "/usr/local/lib/python3.11/dist-packages/torch/nn/modules/transformer.py:20: UserWarning: Failed to initialize NumPy: _ARRAY_API not found (Triggered internally at ../torch/csrc/utils/tensor_numpy.cpp:84.)\n",
            "  device: torch.device = torch.device(torch._C._get_default_device()),  # torch.device('cpu'),\n",
            "Collecting de-core-news-sm==3.8.0\n",
            "  Downloading https://github.com/explosion/spacy-models/releases/download/de_core_news_sm-3.8.0/de_core_news_sm-3.8.0-py3-none-any.whl (14.6 MB)\n",
            "\u001b[2K     \u001b[90m━━━━━━━━━━━━━━━━━━━━━━━━━━━━━━━━━━━━━━━━\u001b[0m \u001b[32m14.6/14.6 MB\u001b[0m \u001b[31m39.9 MB/s\u001b[0m eta \u001b[36m0:00:00\u001b[0m\n",
            "\u001b[?25h\u001b[38;5;2m✔ Download and installation successful\u001b[0m\n",
            "You can now load the package via spacy.load('de_core_news_sm')\n",
            "\u001b[38;5;3m⚠ Restart to reload dependencies\u001b[0m\n",
            "If you are in a Jupyter or Colab notebook, you may need to restart Python in\n",
            "order to load all the package's dependencies. You can do this by selecting the\n",
            "'Restart kernel' or 'Restart runtime' option.\n",
            "\n",
            "A module that was compiled using NumPy 1.x cannot be run in\n",
            "NumPy 2.0.2 as it may crash. To support both 1.x and 2.x\n",
            "versions of NumPy, modules must be compiled with NumPy 2.0.\n",
            "Some module may need to rebuild instead e.g. with 'pybind11>=2.12'.\n",
            "\n",
            "If you are a user of the module, the easiest solution will be to\n",
            "downgrade to 'numpy<2' or try to upgrade the affected module.\n",
            "We expect that some modules will need time to support NumPy 2.\n",
            "\n",
            "Traceback (most recent call last):  File \"<frozen runpy>\", line 189, in _run_module_as_main\n",
            "  File \"<frozen runpy>\", line 148, in _get_module_details\n",
            "  File \"<frozen runpy>\", line 112, in _get_module_details\n",
            "  File \"/usr/local/lib/python3.11/dist-packages/spacy/__init__.py\", line 6, in <module>\n",
            "    from .errors import setup_default_warnings\n",
            "  File \"/usr/local/lib/python3.11/dist-packages/spacy/errors.py\", line 3, in <module>\n",
            "    from .compat import Literal\n",
            "  File \"/usr/local/lib/python3.11/dist-packages/spacy/compat.py\", line 4, in <module>\n",
            "    from thinc.util import copy_array\n",
            "  File \"/usr/local/lib/python3.11/dist-packages/thinc/__init__.py\", line 5, in <module>\n",
            "    from .config import registry\n",
            "  File \"/usr/local/lib/python3.11/dist-packages/thinc/config.py\", line 5, in <module>\n",
            "    from .types import Decorator\n",
            "  File \"/usr/local/lib/python3.11/dist-packages/thinc/types.py\", line 27, in <module>\n",
            "    from .compat import cupy, has_cupy\n",
            "  File \"/usr/local/lib/python3.11/dist-packages/thinc/compat.py\", line 35, in <module>\n",
            "    import torch\n",
            "  File \"/usr/local/lib/python3.11/dist-packages/torch/__init__.py\", line 1471, in <module>\n",
            "    from .functional import *  # noqa: F403\n",
            "  File \"/usr/local/lib/python3.11/dist-packages/torch/functional.py\", line 9, in <module>\n",
            "    import torch.nn.functional as F\n",
            "  File \"/usr/local/lib/python3.11/dist-packages/torch/nn/__init__.py\", line 1, in <module>\n",
            "    from .modules import *  # noqa: F403\n",
            "  File \"/usr/local/lib/python3.11/dist-packages/torch/nn/modules/__init__.py\", line 35, in <module>\n",
            "    from .transformer import TransformerEncoder, TransformerDecoder, \\\n",
            "  File \"/usr/local/lib/python3.11/dist-packages/torch/nn/modules/transformer.py\", line 20, in <module>\n",
            "    device: torch.device = torch.device(torch._C._get_default_device()),  # torch.device('cpu'),\n",
            "/usr/local/lib/python3.11/dist-packages/torch/nn/modules/transformer.py:20: UserWarning: Failed to initialize NumPy: _ARRAY_API not found (Triggered internally at ../torch/csrc/utils/tensor_numpy.cpp:84.)\n",
            "  device: torch.device = torch.device(torch._C._get_default_device()),  # torch.device('cpu'),\n",
            "Collecting en-core-web-sm==3.8.0\n",
            "  Downloading https://github.com/explosion/spacy-models/releases/download/en_core_web_sm-3.8.0/en_core_web_sm-3.8.0-py3-none-any.whl (12.8 MB)\n",
            "\u001b[2K     \u001b[90m━━━━━━━━━━━━━━━━━━━━━━━━━━━━━━━━━━━━━━━━\u001b[0m \u001b[32m12.8/12.8 MB\u001b[0m \u001b[31m51.6 MB/s\u001b[0m eta \u001b[36m0:00:00\u001b[0m\n",
            "\u001b[?25h\u001b[38;5;2m✔ Download and installation successful\u001b[0m\n",
            "You can now load the package via spacy.load('en_core_web_sm')\n",
            "\u001b[38;5;3m⚠ Restart to reload dependencies\u001b[0m\n",
            "If you are in a Jupyter or Colab notebook, you may need to restart Python in\n",
            "order to load all the package's dependencies. You can do this by selecting the\n",
            "'Restart kernel' or 'Restart runtime' option.\n"
          ]
        }
      ],
      "source": [
        "# # Uncomment for colab\n",
        "# #\n",
        "!pip install -q torchdata==0.3.0 torchtext==0.15.1 spacy==3.2 altair GPUtil\n",
        "!python -m spacy download de_core_news_sm\n",
        "!python -m spacy download en_core_web_sm"
      ]
    },
    {
      "cell_type": "code",
      "execution_count": 6,
      "id": "1bf3deb7",
      "metadata": {
        "execution": {
          "iopub.execute_input": "2022-05-02T01:25:17.560273Z",
          "iopub.status.busy": "2022-05-02T01:25:17.559273Z",
          "iopub.status.idle": "2022-05-02T01:25:18.690005Z",
          "shell.execute_reply": "2022-05-02T01:25:18.690769Z"
        },
        "id": "1bf3deb7",
        "lines_to_next_cell": 2,
        "colab": {
          "base_uri": "https://localhost:8080/"
        },
        "outputId": "78c84158-f42b-4fda-fdfe-459a4db00ce3"
      },
      "outputs": [
        {
          "output_type": "stream",
          "name": "stderr",
          "text": [
            "\n",
            "A module that was compiled using NumPy 1.x cannot be run in\n",
            "NumPy 2.0.2 as it may crash. To support both 1.x and 2.x\n",
            "versions of NumPy, modules must be compiled with NumPy 2.0.\n",
            "Some module may need to rebuild instead e.g. with 'pybind11>=2.12'.\n",
            "\n",
            "If you are a user of the module, the easiest solution will be to\n",
            "downgrade to 'numpy<2' or try to upgrade the affected module.\n",
            "We expect that some modules will need time to support NumPy 2.\n",
            "\n",
            "Traceback (most recent call last):  File \"<frozen runpy>\", line 198, in _run_module_as_main\n",
            "  File \"<frozen runpy>\", line 88, in _run_code\n",
            "  File \"/usr/local/lib/python3.11/dist-packages/colab_kernel_launcher.py\", line 37, in <module>\n",
            "    ColabKernelApp.launch_instance()\n",
            "  File \"/usr/local/lib/python3.11/dist-packages/traitlets/config/application.py\", line 992, in launch_instance\n",
            "    app.start()\n",
            "  File \"/usr/local/lib/python3.11/dist-packages/ipykernel/kernelapp.py\", line 712, in start\n",
            "    self.io_loop.start()\n",
            "  File \"/usr/local/lib/python3.11/dist-packages/tornado/platform/asyncio.py\", line 205, in start\n",
            "    self.asyncio_loop.run_forever()\n",
            "  File \"/usr/lib/python3.11/asyncio/base_events.py\", line 608, in run_forever\n",
            "    self._run_once()\n",
            "  File \"/usr/lib/python3.11/asyncio/base_events.py\", line 1936, in _run_once\n",
            "    handle._run()\n",
            "  File \"/usr/lib/python3.11/asyncio/events.py\", line 84, in _run\n",
            "    self._context.run(self._callback, *self._args)\n",
            "  File \"/usr/local/lib/python3.11/dist-packages/ipykernel/kernelbase.py\", line 510, in dispatch_queue\n",
            "    await self.process_one()\n",
            "  File \"/usr/local/lib/python3.11/dist-packages/ipykernel/kernelbase.py\", line 499, in process_one\n",
            "    await dispatch(*args)\n",
            "  File \"/usr/local/lib/python3.11/dist-packages/ipykernel/kernelbase.py\", line 406, in dispatch_shell\n",
            "    await result\n",
            "  File \"/usr/local/lib/python3.11/dist-packages/ipykernel/kernelbase.py\", line 730, in execute_request\n",
            "    reply_content = await reply_content\n",
            "  File \"/usr/local/lib/python3.11/dist-packages/ipykernel/ipkernel.py\", line 383, in do_execute\n",
            "    res = shell.run_cell(\n",
            "  File \"/usr/local/lib/python3.11/dist-packages/ipykernel/zmqshell.py\", line 528, in run_cell\n",
            "    return super().run_cell(*args, **kwargs)\n",
            "  File \"/usr/local/lib/python3.11/dist-packages/IPython/core/interactiveshell.py\", line 2975, in run_cell\n",
            "    result = self._run_cell(\n",
            "  File \"/usr/local/lib/python3.11/dist-packages/IPython/core/interactiveshell.py\", line 3030, in _run_cell\n",
            "    return runner(coro)\n",
            "  File \"/usr/local/lib/python3.11/dist-packages/IPython/core/async_helpers.py\", line 78, in _pseudo_sync_runner\n",
            "    coro.send(None)\n",
            "  File \"/usr/local/lib/python3.11/dist-packages/IPython/core/interactiveshell.py\", line 3257, in run_cell_async\n",
            "    has_raised = await self.run_ast_nodes(code_ast.body, cell_name,\n",
            "  File \"/usr/local/lib/python3.11/dist-packages/IPython/core/interactiveshell.py\", line 3473, in run_ast_nodes\n",
            "    if (await self.run_code(code, result,  async_=asy)):\n",
            "  File \"/usr/local/lib/python3.11/dist-packages/IPython/core/interactiveshell.py\", line 3553, in run_code\n",
            "    exec(code_obj, self.user_global_ns, self.user_ns)\n",
            "  File \"<ipython-input-6-3f2ed5db9d75>\", line 3, in <cell line: 0>\n",
            "    import torch\n",
            "  File \"/usr/local/lib/python3.11/dist-packages/torch/__init__.py\", line 1471, in <module>\n",
            "    from .functional import *  # noqa: F403\n",
            "  File \"/usr/local/lib/python3.11/dist-packages/torch/functional.py\", line 9, in <module>\n",
            "    import torch.nn.functional as F\n",
            "  File \"/usr/local/lib/python3.11/dist-packages/torch/nn/__init__.py\", line 1, in <module>\n",
            "    from .modules import *  # noqa: F403\n",
            "  File \"/usr/local/lib/python3.11/dist-packages/torch/nn/modules/__init__.py\", line 35, in <module>\n",
            "    from .transformer import TransformerEncoder, TransformerDecoder, \\\n",
            "  File \"/usr/local/lib/python3.11/dist-packages/torch/nn/modules/transformer.py\", line 20, in <module>\n",
            "    device: torch.device = torch.device(torch._C._get_default_device()),  # torch.device('cpu'),\n",
            "/usr/local/lib/python3.11/dist-packages/torch/nn/modules/transformer.py:20: UserWarning: Failed to initialize NumPy: _ARRAY_API not found (Triggered internally at ../torch/csrc/utils/tensor_numpy.cpp:84.)\n",
            "  device: torch.device = torch.device(torch._C._get_default_device()),  # torch.device('cpu'),\n"
          ]
        }
      ],
      "source": [
        "import os\n",
        "from os.path import exists\n",
        "import torch\n",
        "import torch.nn as nn\n",
        "from torch.nn.functional import log_softmax, pad\n",
        "import math\n",
        "import copy\n",
        "import time\n",
        "from torch.optim.lr_scheduler import LambdaLR\n",
        "import pandas as pd\n",
        "import altair as alt\n",
        "from torchtext.data.functional import to_map_style_dataset\n",
        "from torch.utils.data import DataLoader\n",
        "from torchtext.vocab import build_vocab_from_iterator\n",
        "import torchtext.datasets as datasets\n",
        "import spacy\n",
        "import GPUtil\n",
        "import warnings\n",
        "from torch.utils.data.distributed import DistributedSampler\n",
        "import torch.distributed as dist\n",
        "import torch.multiprocessing as mp\n",
        "from torch.nn.parallel import DistributedDataParallel as DDP\n",
        "import numpy\n",
        "\n",
        "# Set to False to skip notebook execution (e.g. for debugging)\n",
        "warnings.filterwarnings(\"ignore\")\n",
        "RUN_EXAMPLES = True"
      ]
    },
    {
      "cell_type": "code",
      "execution_count": 7,
      "id": "60359a1a",
      "metadata": {
        "execution": {
          "iopub.execute_input": "2022-05-02T01:25:18.702574Z",
          "iopub.status.busy": "2022-05-02T01:25:18.701680Z",
          "iopub.status.idle": "2022-05-02T01:25:18.704131Z",
          "shell.execute_reply": "2022-05-02T01:25:18.704839Z"
        },
        "id": "60359a1a",
        "cellView": "form"
      },
      "outputs": [],
      "source": [
        "#@title helpers\n",
        "# Some convenience helper functions used throughout the notebook\n",
        "\n",
        "\n",
        "def is_interactive_notebook():\n",
        "    return __name__ == \"__main__\"\n",
        "\n",
        "\n",
        "def show_example(fn, args=[]):\n",
        "    if __name__ == \"__main__\" and RUN_EXAMPLES:\n",
        "        return fn(*args)\n",
        "\n",
        "\n",
        "def execute_example(fn, args=[]):\n",
        "    if __name__ == \"__main__\" and RUN_EXAMPLES:\n",
        "        fn(*args)\n",
        "\n",
        "\n",
        "class DummyOptimizer(torch.optim.Optimizer):\n",
        "    def __init__(self):\n",
        "        self.param_groups = [{\"lr\": 0}]\n",
        "        None\n",
        "\n",
        "    def step(self):\n",
        "        None\n",
        "\n",
        "    def zero_grad(self, set_to_none=False):\n",
        "        None\n",
        "\n",
        "\n",
        "class DummyScheduler:\n",
        "    def step(self):\n",
        "        None"
      ]
    },
    {
      "cell_type": "markdown",
      "id": "ad3c7477",
      "metadata": {
        "id": "ad3c7477"
      },
      "source": [
        "> My comments are blockquoted. The main text is all from the paper itself. (original authors)\n",
        "### **Additional comments from Andrea or comments made in class** are a bold sub section\n"
      ]
    },
    {
      "cell_type": "markdown",
      "id": "b000ba74",
      "metadata": {
        "id": "b000ba74"
      },
      "source": [
        "# Background"
      ]
    },
    {
      "cell_type": "markdown",
      "id": "98d74a9a",
      "metadata": {
        "id": "98d74a9a"
      },
      "source": [
        "\n",
        "The goal of reducing sequential computation also forms the\n",
        "foundation of the Extended Neural GPU, ByteNet and ConvS2S, all of\n",
        "which use convolutional neural networks as basic building block,\n",
        "computing hidden representations in parallel for all input and\n",
        "output positions. In these models, the number of operations required\n",
        "to relate signals from two arbitrary input or output positions grows\n",
        "in the distance between positions, linearly for ConvS2S and\n",
        "logarithmically for ByteNet. This makes it more difficult to learn\n",
        "dependencies between distant positions. In the Transformer this is\n",
        "reduced to a constant number of operations, albeit at the cost of\n",
        "reduced effective resolution due to averaging attention-weighted\n",
        "positions, an effect we counteract with Multi-Head Attention.\n",
        "\n",
        "Self-attention, sometimes called intra-attention is an attention\n",
        "mechanism relating different positions of a single sequence in order\n",
        "to compute a representation of the sequence. Self-attention has been\n",
        "used successfully in a variety of tasks including reading\n",
        "comprehension, abstractive summarization, textual entailment and\n",
        "learning task-independent sentence representations. End-to-end\n",
        "memory networks are based on a recurrent attention mechanism instead\n",
        "of sequencealigned recurrence and have been shown to perform well on\n",
        "simple-language question answering and language modeling tasks.\n",
        "\n",
        "To the best of our knowledge, however, the Transformer is the first\n",
        "transduction model relying entirely on self-attention to compute\n",
        "representations of its input and output without using sequence\n",
        "aligned RNNs or convolution."
      ]
    },
    {
      "cell_type": "markdown",
      "id": "af8b3f4b",
      "metadata": {
        "id": "af8b3f4b"
      },
      "source": [
        "# Part 1: Model Architecture"
      ]
    },
    {
      "cell_type": "markdown",
      "id": "4ffe7928",
      "metadata": {
        "id": "4ffe7928"
      },
      "source": [
        "# Model Architecture"
      ]
    },
    {
      "cell_type": "markdown",
      "id": "c96103f9",
      "metadata": {
        "id": "c96103f9"
      },
      "source": [
        "\n",
        "Most competitive neural sequence transduction models have an\n",
        "encoder-decoder structure\n",
        "[(cite)](https://arxiv.org/abs/1409.0473). Here, the encoder maps an\n",
        "input sequence of symbol representations $(x_1, ..., x_n)$ to a\n",
        "sequence of continuous representations $\\mathbf{z} = (z_1, ...,\n",
        "z_n)$. Given $\\mathbf{z}$, the decoder then generates an output\n",
        "sequence $(y_1,...,y_m)$ of symbols one element at a time. At each\n",
        "step the model is auto-regressive\n",
        "[(cite)](https://arxiv.org/abs/1308.0850), consuming the previously\n",
        "generated symbols as additional input when generating the next."
      ]
    },
    {
      "cell_type": "code",
      "execution_count": 8,
      "id": "90e7e57e",
      "metadata": {
        "execution": {
          "iopub.execute_input": "2022-05-02T01:25:18.716980Z",
          "iopub.status.busy": "2022-05-02T01:25:18.716023Z",
          "iopub.status.idle": "2022-05-02T01:25:18.718971Z",
          "shell.execute_reply": "2022-05-02T01:25:18.718190Z"
        },
        "id": "90e7e57e"
      },
      "outputs": [],
      "source": [
        "class EncoderDecoder(nn.Module):\n",
        "    \"\"\"\n",
        "    A standard Encoder-Decoder architecture. Base for this and many\n",
        "    other models.\n",
        "    \"\"\"\n",
        "\n",
        "    def __init__(self, encoder, decoder, src_embed, tgt_embed, generator):\n",
        "        super(EncoderDecoder, self).__init__()\n",
        "        self.encoder = encoder\n",
        "        self.decoder = decoder\n",
        "        self.src_embed = src_embed\n",
        "        self.tgt_embed = tgt_embed\n",
        "        self.generator = generator\n",
        "\n",
        "    def forward(self, src, tgt, src_mask, tgt_mask):\n",
        "        \"Take in and process masked src and target sequences.\"\n",
        "        return self.decode(self.encode(src, src_mask), src_mask, tgt, tgt_mask)\n",
        "\n",
        "    def encode(self, src, src_mask):\n",
        "        return self.encoder(self.src_embed(src), src_mask)\n",
        "\n",
        "    def decode(self, memory, src_mask, tgt, tgt_mask):\n",
        "        return self.decoder(self.tgt_embed(tgt), memory, src_mask, tgt_mask)"
      ]
    },
    {
      "cell_type": "code",
      "execution_count": 9,
      "id": "85bfcee7",
      "metadata": {
        "execution": {
          "iopub.execute_input": "2022-05-02T01:25:18.725923Z",
          "iopub.status.busy": "2022-05-02T01:25:18.724967Z",
          "iopub.status.idle": "2022-05-02T01:25:18.727616Z",
          "shell.execute_reply": "2022-05-02T01:25:18.726912Z"
        },
        "id": "85bfcee7",
        "lines_to_next_cell": 2
      },
      "outputs": [],
      "source": [
        "class Generator(nn.Module):\n",
        "    \"Define standard linear + softmax generation step.\"\n",
        "\n",
        "    def __init__(self, d_model, vocab):\n",
        "        super(Generator, self).__init__()\n",
        "        self.proj = nn.Linear(d_model, vocab)\n",
        "\n",
        "    def forward(self, x):\n",
        "        return log_softmax(self.proj(x), dim=-1)"
      ]
    },
    {
      "cell_type": "markdown",
      "id": "bd5d4af0",
      "metadata": {
        "id": "bd5d4af0"
      },
      "source": [
        "\n",
        "The Transformer follows this overall architecture using stacked\n",
        "self-attention and point-wise, fully connected layers for both the\n",
        "encoder and decoder, shown in the left and right halves of Figure 1,\n",
        "respectively."
      ]
    },
    {
      "cell_type": "markdown",
      "id": "592fd662",
      "metadata": {
        "id": "592fd662",
        "lines_to_next_cell": 2
      },
      "source": [
        "![](https://github.com/pumazzo/annotated-transformer/blob/master/images/ModalNet-21.png?raw=1)"
      ]
    },
    {
      "cell_type": "markdown",
      "id": "0ef04378",
      "metadata": {
        "id": "0ef04378"
      },
      "source": [
        "## Encoder and Decoder Stacks\n",
        "\n",
        "### Encoder\n",
        "\n",
        "The encoder is composed of a stack of $N=6$ identical layers."
      ]
    },
    {
      "cell_type": "code",
      "execution_count": 10,
      "id": "0367c79f",
      "metadata": {
        "execution": {
          "iopub.execute_input": "2022-05-02T01:25:18.733957Z",
          "iopub.status.busy": "2022-05-02T01:25:18.733114Z",
          "iopub.status.idle": "2022-05-02T01:25:18.735146Z",
          "shell.execute_reply": "2022-05-02T01:25:18.735851Z"
        },
        "id": "0367c79f"
      },
      "outputs": [],
      "source": [
        "def clones(module, N):\n",
        "    \"Produce N identical layers.\"\n",
        "    return nn.ModuleList([copy.deepcopy(module) for _ in range(N)])"
      ]
    },
    {
      "cell_type": "code",
      "execution_count": 11,
      "id": "1d643018",
      "metadata": {
        "execution": {
          "iopub.execute_input": "2022-05-02T01:25:18.744483Z",
          "iopub.status.busy": "2022-05-02T01:25:18.743617Z",
          "iopub.status.idle": "2022-05-02T01:25:18.745891Z",
          "shell.execute_reply": "2022-05-02T01:25:18.746578Z"
        },
        "id": "1d643018"
      },
      "outputs": [],
      "source": [
        "class Encoder(nn.Module):\n",
        "    \"Core encoder is a stack of N layers\"\n",
        "\n",
        "    def __init__(self, layer, N):\n",
        "        super(Encoder, self).__init__()\n",
        "        self.layers = clones(layer, N)\n",
        "        self.norm = LayerNorm(layer.size)\n",
        "\n",
        "    def forward(self, x, mask):\n",
        "        \"Pass the input (and mask) through each layer in turn.\"\n",
        "        for layer in self.layers:\n",
        "            x = layer(x, mask)\n",
        "        return self.norm(x)"
      ]
    },
    {
      "cell_type": "markdown",
      "id": "9f730d85",
      "metadata": {
        "id": "9f730d85"
      },
      "source": [
        "\n",
        "We employ a residual connection\n",
        "[(cite)](https://arxiv.org/abs/1512.03385) around each of the two\n",
        "sub-layers, followed by layer normalization\n",
        "[(cite)](https://arxiv.org/abs/1607.06450)."
      ]
    },
    {
      "cell_type": "code",
      "execution_count": 12,
      "id": "1eb56a59",
      "metadata": {
        "execution": {
          "iopub.execute_input": "2022-05-02T01:25:18.756189Z",
          "iopub.status.busy": "2022-05-02T01:25:18.755315Z",
          "iopub.status.idle": "2022-05-02T01:25:18.757924Z",
          "shell.execute_reply": "2022-05-02T01:25:18.758590Z"
        },
        "id": "1eb56a59"
      },
      "outputs": [],
      "source": [
        "class LayerNorm(nn.Module):\n",
        "    \"Construct a layernorm module (See citation for details).\"\n",
        "\n",
        "    def __init__(self, features, eps=1e-6):\n",
        "        super(LayerNorm, self).__init__()\n",
        "        self.a_2 = nn.Parameter(torch.ones(features))\n",
        "        self.b_2 = nn.Parameter(torch.zeros(features))\n",
        "        self.eps = eps\n",
        "\n",
        "    def forward(self, x):\n",
        "        mean = x.mean(-1, keepdim=True)\n",
        "        std = x.std(-1, keepdim=True)\n",
        "        return self.a_2 * (x - mean) / (std + self.eps) + self.b_2"
      ]
    },
    {
      "cell_type": "markdown",
      "id": "c9c1edc4",
      "metadata": {
        "id": "c9c1edc4"
      },
      "source": [
        "\n",
        "That is, the output of each sub-layer is $\\mathrm{LayerNorm}(x +\n",
        "\\mathrm{Sublayer}(x))$, where $\\mathrm{Sublayer}(x)$ is the function\n",
        "implemented by the sub-layer itself.  We apply dropout\n",
        "[(cite)](http://jmlr.org/papers/v15/srivastava14a.html) to the\n",
        "output of each sub-layer, before it is added to the sub-layer input\n",
        "and normalized.\n",
        "\n",
        "To facilitate these residual connections, all sub-layers in the\n",
        "model, as well as the embedding layers, produce outputs of dimension\n",
        "$d_{\\text{model}}=512$."
      ]
    },
    {
      "cell_type": "code",
      "execution_count": 13,
      "id": "a7f34584",
      "metadata": {
        "execution": {
          "iopub.execute_input": "2022-05-02T01:25:18.767044Z",
          "iopub.status.busy": "2022-05-02T01:25:18.766174Z",
          "iopub.status.idle": "2022-05-02T01:25:18.768689Z",
          "shell.execute_reply": "2022-05-02T01:25:18.769383Z"
        },
        "id": "a7f34584"
      },
      "outputs": [],
      "source": [
        "class SublayerConnection(nn.Module):\n",
        "    \"\"\"\n",
        "    A residual connection followed by a layer norm.\n",
        "    Note for code simplicity the norm is first as opposed to last.\n",
        "    \"\"\"\n",
        "\n",
        "    def __init__(self, size, dropout):\n",
        "        super(SublayerConnection, self).__init__()\n",
        "        self.norm = LayerNorm(size)\n",
        "        self.dropout = nn.Dropout(dropout)\n",
        "\n",
        "    def forward(self, x, sublayer):\n",
        "        \"Apply residual connection to any sublayer with the same size.\"\n",
        "        return x + self.dropout(sublayer(self.norm(x)))"
      ]
    },
    {
      "cell_type": "markdown",
      "id": "e1d6e20d",
      "metadata": {
        "id": "e1d6e20d"
      },
      "source": [
        "\n",
        "Each layer has two sub-layers. The first is a multi-head\n",
        "self-attention mechanism, and the second is a simple, position-wise\n",
        "fully connected feed-forward network."
      ]
    },
    {
      "cell_type": "code",
      "execution_count": 14,
      "id": "3db97336",
      "metadata": {
        "execution": {
          "iopub.execute_input": "2022-05-02T01:25:18.779893Z",
          "iopub.status.busy": "2022-05-02T01:25:18.778804Z",
          "iopub.status.idle": "2022-05-02T01:25:18.780994Z",
          "shell.execute_reply": "2022-05-02T01:25:18.781710Z"
        },
        "id": "3db97336"
      },
      "outputs": [],
      "source": [
        "class EncoderLayer(nn.Module):\n",
        "    \"Encoder is made up of self-attn and feed forward (defined below)\"\n",
        "\n",
        "    def __init__(self, size, self_attn, feed_forward, dropout):\n",
        "        super(EncoderLayer, self).__init__()\n",
        "        self.self_attn = self_attn\n",
        "        self.feed_forward = feed_forward\n",
        "        self.sublayer = clones(SublayerConnection(size, dropout), 2)\n",
        "        self.size = size\n",
        "\n",
        "    def forward(self, x, mask):\n",
        "        \"Follow Figure 1 (left) for connections.\"\n",
        "        x = self.sublayer[0](x, lambda x: self.self_attn(x, x, x, mask))\n",
        "        return self.sublayer[1](x, self.feed_forward)"
      ]
    },
    {
      "cell_type": "markdown",
      "id": "9c90d6ee",
      "metadata": {
        "id": "9c90d6ee"
      },
      "source": [
        "### Decoder\n",
        "\n",
        "The decoder is also composed of a stack of $N=6$ identical layers.\n"
      ]
    },
    {
      "cell_type": "code",
      "execution_count": 15,
      "id": "4dbe403d",
      "metadata": {
        "execution": {
          "iopub.execute_input": "2022-05-02T01:25:18.790602Z",
          "iopub.status.busy": "2022-05-02T01:25:18.789754Z",
          "iopub.status.idle": "2022-05-02T01:25:18.791985Z",
          "shell.execute_reply": "2022-05-02T01:25:18.792756Z"
        },
        "id": "4dbe403d"
      },
      "outputs": [],
      "source": [
        "class Decoder(nn.Module):\n",
        "    \"Generic N layer decoder with masking.\"\n",
        "\n",
        "    def __init__(self, layer, N):\n",
        "        super(Decoder, self).__init__()\n",
        "        self.layers = clones(layer, N)\n",
        "        self.norm = LayerNorm(layer.size)\n",
        "\n",
        "    def forward(self, x, memory, src_mask, tgt_mask):\n",
        "        for layer in self.layers:\n",
        "            x = layer(x, memory, src_mask, tgt_mask)\n",
        "        return self.norm(x)"
      ]
    },
    {
      "cell_type": "markdown",
      "id": "c202cebd",
      "metadata": {
        "id": "c202cebd"
      },
      "source": [
        "\n",
        "In addition to the two sub-layers in each encoder layer, the decoder\n",
        "inserts a third sub-layer, which performs multi-head attention over\n",
        "the output of the encoder stack.  Similar to the encoder, we employ\n",
        "residual connections around each of the sub-layers, followed by\n",
        "layer normalization."
      ]
    },
    {
      "cell_type": "code",
      "execution_count": 16,
      "id": "3b1df6b1",
      "metadata": {
        "execution": {
          "iopub.execute_input": "2022-05-02T01:25:18.803099Z",
          "iopub.status.busy": "2022-05-02T01:25:18.796132Z",
          "iopub.status.idle": "2022-05-02T01:25:18.806479Z",
          "shell.execute_reply": "2022-05-02T01:25:18.805667Z"
        },
        "id": "3b1df6b1"
      },
      "outputs": [],
      "source": [
        "class DecoderLayer(nn.Module):\n",
        "    \"Decoder is made of self-attn, src-attn, and feed forward (defined below)\"\n",
        "\n",
        "    def __init__(self, size, self_attn, src_attn, feed_forward, dropout):\n",
        "        super(DecoderLayer, self).__init__()\n",
        "        self.size = size\n",
        "        self.self_attn = self_attn\n",
        "        self.src_attn = src_attn\n",
        "        self.feed_forward = feed_forward\n",
        "        self.sublayer = clones(SublayerConnection(size, dropout), 3)\n",
        "\n",
        "    def forward(self, x, memory, src_mask, tgt_mask):\n",
        "        \"Follow Figure 1 (right) for connections.\"\n",
        "        m = memory\n",
        "        x = self.sublayer[0](x, lambda x: self.self_attn(x, x, x, tgt_mask))\n",
        "        x = self.sublayer[1](x, lambda x: self.src_attn(x, m, m, src_mask))\n",
        "        return self.sublayer[2](x, self.feed_forward)"
      ]
    },
    {
      "cell_type": "markdown",
      "id": "a6852ba5",
      "metadata": {
        "id": "a6852ba5"
      },
      "source": [
        "\n",
        "We also modify the self-attention sub-layer in the decoder stack to\n",
        "prevent positions from attending to subsequent positions.  This\n",
        "masking, combined with fact that the output embeddings are offset by\n",
        "one position, ensures that the predictions for position $i$ can\n",
        "depend only on the known outputs at positions less than $i$."
      ]
    },
    {
      "cell_type": "code",
      "execution_count": 17,
      "id": "1fe1b467",
      "metadata": {
        "execution": {
          "iopub.execute_input": "2022-05-02T01:25:18.813309Z",
          "iopub.status.busy": "2022-05-02T01:25:18.812387Z",
          "iopub.status.idle": "2022-05-02T01:25:18.815171Z",
          "shell.execute_reply": "2022-05-02T01:25:18.814519Z"
        },
        "id": "1fe1b467"
      },
      "outputs": [],
      "source": [
        "import numpy as np\n",
        "def subsequent_mask(size):\n",
        "    \"Mask out subsequent positions.\"\n",
        "    attn_shape = (1, size, size)\n",
        "    subsequent_mask = torch.triu(torch.ones(attn_shape), diagonal=1).type(\n",
        "        torch.uint8\n",
        "    )\n",
        "    return subsequent_mask == 0"
      ]
    },
    {
      "cell_type": "markdown",
      "id": "ad536665",
      "metadata": {
        "id": "ad536665"
      },
      "source": [
        "\n",
        "> Below the attention mask shows the position each tgt word (row) is\n",
        "> allowed to look at (column). Words are blocked for attending to\n",
        "> future words during training."
      ]
    },
    {
      "cell_type": "code",
      "execution_count": 18,
      "id": "789f803c",
      "metadata": {
        "execution": {
          "iopub.execute_input": "2022-05-02T01:25:18.825279Z",
          "iopub.status.busy": "2022-05-02T01:25:18.824491Z",
          "iopub.status.idle": "2022-05-02T01:25:19.243442Z",
          "shell.execute_reply": "2022-05-02T01:25:19.243674Z"
        },
        "id": "789f803c",
        "outputId": "6ef6e220-e14c-41b7-aa09-38647e7e748b",
        "colab": {
          "base_uri": "https://localhost:8080/",
          "height": 327
        }
      },
      "outputs": [
        {
          "output_type": "error",
          "ename": "RuntimeError",
          "evalue": "Numpy is not available",
          "traceback": [
            "\u001b[0;31m---------------------------------------------------------------------------\u001b[0m",
            "\u001b[0;31mRuntimeError\u001b[0m                              Traceback (most recent call last)",
            "\u001b[0;32m<ipython-input-18-28ec65c4abe2>\u001b[0m in \u001b[0;36m<cell line: 0>\u001b[0;34m()\u001b[0m\n\u001b[1;32m     27\u001b[0m \u001b[0;34m\u001b[0m\u001b[0m\n\u001b[1;32m     28\u001b[0m \u001b[0;34m\u001b[0m\u001b[0m\n\u001b[0;32m---> 29\u001b[0;31m \u001b[0mshow_example\u001b[0m\u001b[0;34m(\u001b[0m\u001b[0mexample_mask\u001b[0m\u001b[0;34m)\u001b[0m\u001b[0;34m\u001b[0m\u001b[0;34m\u001b[0m\u001b[0m\n\u001b[0m",
            "\u001b[0;32m<ipython-input-7-4a593a213ab7>\u001b[0m in \u001b[0;36mshow_example\u001b[0;34m(fn, args)\u001b[0m\n\u001b[1;32m      9\u001b[0m \u001b[0;32mdef\u001b[0m \u001b[0mshow_example\u001b[0m\u001b[0;34m(\u001b[0m\u001b[0mfn\u001b[0m\u001b[0;34m,\u001b[0m \u001b[0margs\u001b[0m\u001b[0;34m=\u001b[0m\u001b[0;34m[\u001b[0m\u001b[0;34m]\u001b[0m\u001b[0;34m)\u001b[0m\u001b[0;34m:\u001b[0m\u001b[0;34m\u001b[0m\u001b[0;34m\u001b[0m\u001b[0m\n\u001b[1;32m     10\u001b[0m     \u001b[0;32mif\u001b[0m \u001b[0m__name__\u001b[0m \u001b[0;34m==\u001b[0m \u001b[0;34m\"__main__\"\u001b[0m \u001b[0;32mand\u001b[0m \u001b[0mRUN_EXAMPLES\u001b[0m\u001b[0;34m:\u001b[0m\u001b[0;34m\u001b[0m\u001b[0;34m\u001b[0m\u001b[0m\n\u001b[0;32m---> 11\u001b[0;31m         \u001b[0;32mreturn\u001b[0m \u001b[0mfn\u001b[0m\u001b[0;34m(\u001b[0m\u001b[0;34m*\u001b[0m\u001b[0margs\u001b[0m\u001b[0;34m)\u001b[0m\u001b[0;34m\u001b[0m\u001b[0;34m\u001b[0m\u001b[0m\n\u001b[0m\u001b[1;32m     12\u001b[0m \u001b[0;34m\u001b[0m\u001b[0m\n\u001b[1;32m     13\u001b[0m \u001b[0;34m\u001b[0m\u001b[0m\n",
            "\u001b[0;32m<ipython-input-18-28ec65c4abe2>\u001b[0m in \u001b[0;36mexample_mask\u001b[0;34m()\u001b[0m\n\u001b[1;32m      1\u001b[0m \u001b[0;32mdef\u001b[0m \u001b[0mexample_mask\u001b[0m\u001b[0;34m(\u001b[0m\u001b[0;34m)\u001b[0m\u001b[0;34m:\u001b[0m\u001b[0;34m\u001b[0m\u001b[0;34m\u001b[0m\u001b[0m\n\u001b[1;32m      2\u001b[0m     LS_data = pd.concat(\n\u001b[0;32m----> 3\u001b[0;31m         [\n\u001b[0m\u001b[1;32m      4\u001b[0m             pd.DataFrame(\n\u001b[1;32m      5\u001b[0m                 {\n",
            "\u001b[0;32m<ipython-input-18-28ec65c4abe2>\u001b[0m in \u001b[0;36m<listcomp>\u001b[0;34m(.0)\u001b[0m\n\u001b[1;32m      2\u001b[0m     LS_data = pd.concat(\n\u001b[1;32m      3\u001b[0m         [\n\u001b[0;32m----> 4\u001b[0;31m             pd.DataFrame(\n\u001b[0m\u001b[1;32m      5\u001b[0m                 {\n\u001b[1;32m      6\u001b[0m                     \u001b[0;34m\"Subsequent Mask\"\u001b[0m\u001b[0;34m:\u001b[0m \u001b[0msubsequent_mask\u001b[0m\u001b[0;34m(\u001b[0m\u001b[0;36m20\u001b[0m\u001b[0;34m)\u001b[0m\u001b[0;34m[\u001b[0m\u001b[0;36m0\u001b[0m\u001b[0;34m]\u001b[0m\u001b[0;34m[\u001b[0m\u001b[0mx\u001b[0m\u001b[0;34m,\u001b[0m \u001b[0my\u001b[0m\u001b[0;34m]\u001b[0m\u001b[0;34m.\u001b[0m\u001b[0mflatten\u001b[0m\u001b[0;34m(\u001b[0m\u001b[0;34m)\u001b[0m\u001b[0;34m,\u001b[0m\u001b[0;34m\u001b[0m\u001b[0;34m\u001b[0m\u001b[0m\n",
            "\u001b[0;32m/usr/local/lib/python3.11/dist-packages/pandas/core/frame.py\u001b[0m in \u001b[0;36m__init__\u001b[0;34m(self, data, index, columns, dtype, copy)\u001b[0m\n\u001b[1;32m    776\u001b[0m         \u001b[0;32melif\u001b[0m \u001b[0misinstance\u001b[0m\u001b[0;34m(\u001b[0m\u001b[0mdata\u001b[0m\u001b[0;34m,\u001b[0m \u001b[0mdict\u001b[0m\u001b[0;34m)\u001b[0m\u001b[0;34m:\u001b[0m\u001b[0;34m\u001b[0m\u001b[0;34m\u001b[0m\u001b[0m\n\u001b[1;32m    777\u001b[0m             \u001b[0;31m# GH#38939 de facto copy defaults to False only in non-dict cases\u001b[0m\u001b[0;34m\u001b[0m\u001b[0;34m\u001b[0m\u001b[0m\n\u001b[0;32m--> 778\u001b[0;31m             \u001b[0mmgr\u001b[0m \u001b[0;34m=\u001b[0m \u001b[0mdict_to_mgr\u001b[0m\u001b[0;34m(\u001b[0m\u001b[0mdata\u001b[0m\u001b[0;34m,\u001b[0m \u001b[0mindex\u001b[0m\u001b[0;34m,\u001b[0m \u001b[0mcolumns\u001b[0m\u001b[0;34m,\u001b[0m \u001b[0mdtype\u001b[0m\u001b[0;34m=\u001b[0m\u001b[0mdtype\u001b[0m\u001b[0;34m,\u001b[0m \u001b[0mcopy\u001b[0m\u001b[0;34m=\u001b[0m\u001b[0mcopy\u001b[0m\u001b[0;34m,\u001b[0m \u001b[0mtyp\u001b[0m\u001b[0;34m=\u001b[0m\u001b[0mmanager\u001b[0m\u001b[0;34m)\u001b[0m\u001b[0;34m\u001b[0m\u001b[0;34m\u001b[0m\u001b[0m\n\u001b[0m\u001b[1;32m    779\u001b[0m         \u001b[0;32melif\u001b[0m \u001b[0misinstance\u001b[0m\u001b[0;34m(\u001b[0m\u001b[0mdata\u001b[0m\u001b[0;34m,\u001b[0m \u001b[0mma\u001b[0m\u001b[0;34m.\u001b[0m\u001b[0mMaskedArray\u001b[0m\u001b[0;34m)\u001b[0m\u001b[0;34m:\u001b[0m\u001b[0;34m\u001b[0m\u001b[0;34m\u001b[0m\u001b[0m\n\u001b[1;32m    780\u001b[0m             \u001b[0;32mfrom\u001b[0m \u001b[0mnumpy\u001b[0m\u001b[0;34m.\u001b[0m\u001b[0mma\u001b[0m \u001b[0;32mimport\u001b[0m \u001b[0mmrecords\u001b[0m\u001b[0;34m\u001b[0m\u001b[0;34m\u001b[0m\u001b[0m\n",
            "\u001b[0;32m/usr/local/lib/python3.11/dist-packages/pandas/core/internals/construction.py\u001b[0m in \u001b[0;36mdict_to_mgr\u001b[0;34m(data, index, columns, dtype, typ, copy)\u001b[0m\n\u001b[1;32m    501\u001b[0m             \u001b[0marrays\u001b[0m \u001b[0;34m=\u001b[0m \u001b[0;34m[\u001b[0m\u001b[0mx\u001b[0m\u001b[0;34m.\u001b[0m\u001b[0mcopy\u001b[0m\u001b[0;34m(\u001b[0m\u001b[0;34m)\u001b[0m \u001b[0;32mif\u001b[0m \u001b[0mhasattr\u001b[0m\u001b[0;34m(\u001b[0m\u001b[0mx\u001b[0m\u001b[0;34m,\u001b[0m \u001b[0;34m\"dtype\"\u001b[0m\u001b[0;34m)\u001b[0m \u001b[0;32melse\u001b[0m \u001b[0mx\u001b[0m \u001b[0;32mfor\u001b[0m \u001b[0mx\u001b[0m \u001b[0;32min\u001b[0m \u001b[0marrays\u001b[0m\u001b[0;34m]\u001b[0m\u001b[0;34m\u001b[0m\u001b[0;34m\u001b[0m\u001b[0m\n\u001b[1;32m    502\u001b[0m \u001b[0;34m\u001b[0m\u001b[0m\n\u001b[0;32m--> 503\u001b[0;31m     \u001b[0;32mreturn\u001b[0m \u001b[0marrays_to_mgr\u001b[0m\u001b[0;34m(\u001b[0m\u001b[0marrays\u001b[0m\u001b[0;34m,\u001b[0m \u001b[0mcolumns\u001b[0m\u001b[0;34m,\u001b[0m \u001b[0mindex\u001b[0m\u001b[0;34m,\u001b[0m \u001b[0mdtype\u001b[0m\u001b[0;34m=\u001b[0m\u001b[0mdtype\u001b[0m\u001b[0;34m,\u001b[0m \u001b[0mtyp\u001b[0m\u001b[0;34m=\u001b[0m\u001b[0mtyp\u001b[0m\u001b[0;34m,\u001b[0m \u001b[0mconsolidate\u001b[0m\u001b[0;34m=\u001b[0m\u001b[0mcopy\u001b[0m\u001b[0;34m)\u001b[0m\u001b[0;34m\u001b[0m\u001b[0;34m\u001b[0m\u001b[0m\n\u001b[0m\u001b[1;32m    504\u001b[0m \u001b[0;34m\u001b[0m\u001b[0m\n\u001b[1;32m    505\u001b[0m \u001b[0;34m\u001b[0m\u001b[0m\n",
            "\u001b[0;32m/usr/local/lib/python3.11/dist-packages/pandas/core/internals/construction.py\u001b[0m in \u001b[0;36marrays_to_mgr\u001b[0;34m(arrays, columns, index, dtype, verify_integrity, typ, consolidate)\u001b[0m\n\u001b[1;32m    117\u001b[0m \u001b[0;34m\u001b[0m\u001b[0m\n\u001b[1;32m    118\u001b[0m         \u001b[0;31m# don't force copy because getting jammed in an ndarray anyway\u001b[0m\u001b[0;34m\u001b[0m\u001b[0;34m\u001b[0m\u001b[0m\n\u001b[0;32m--> 119\u001b[0;31m         \u001b[0marrays\u001b[0m\u001b[0;34m,\u001b[0m \u001b[0mrefs\u001b[0m \u001b[0;34m=\u001b[0m \u001b[0m_homogenize\u001b[0m\u001b[0;34m(\u001b[0m\u001b[0marrays\u001b[0m\u001b[0;34m,\u001b[0m \u001b[0mindex\u001b[0m\u001b[0;34m,\u001b[0m \u001b[0mdtype\u001b[0m\u001b[0;34m)\u001b[0m\u001b[0;34m\u001b[0m\u001b[0;34m\u001b[0m\u001b[0m\n\u001b[0m\u001b[1;32m    120\u001b[0m         \u001b[0;31m# _homogenize ensures\u001b[0m\u001b[0;34m\u001b[0m\u001b[0;34m\u001b[0m\u001b[0m\n\u001b[1;32m    121\u001b[0m         \u001b[0;31m#  - all(len(x) == len(index) for x in arrays)\u001b[0m\u001b[0;34m\u001b[0m\u001b[0;34m\u001b[0m\u001b[0m\n",
            "\u001b[0;32m/usr/local/lib/python3.11/dist-packages/pandas/core/internals/construction.py\u001b[0m in \u001b[0;36m_homogenize\u001b[0;34m(data, index, dtype)\u001b[0m\n\u001b[1;32m    627\u001b[0m                 \u001b[0mval\u001b[0m \u001b[0;34m=\u001b[0m \u001b[0mlib\u001b[0m\u001b[0;34m.\u001b[0m\u001b[0mfast_multiget\u001b[0m\u001b[0;34m(\u001b[0m\u001b[0mval\u001b[0m\u001b[0;34m,\u001b[0m \u001b[0moindex\u001b[0m\u001b[0;34m.\u001b[0m\u001b[0m_values\u001b[0m\u001b[0;34m,\u001b[0m \u001b[0mdefault\u001b[0m\u001b[0;34m=\u001b[0m\u001b[0mnp\u001b[0m\u001b[0;34m.\u001b[0m\u001b[0mnan\u001b[0m\u001b[0;34m)\u001b[0m\u001b[0;34m\u001b[0m\u001b[0;34m\u001b[0m\u001b[0m\n\u001b[1;32m    628\u001b[0m \u001b[0;34m\u001b[0m\u001b[0m\n\u001b[0;32m--> 629\u001b[0;31m             \u001b[0mval\u001b[0m \u001b[0;34m=\u001b[0m \u001b[0msanitize_array\u001b[0m\u001b[0;34m(\u001b[0m\u001b[0mval\u001b[0m\u001b[0;34m,\u001b[0m \u001b[0mindex\u001b[0m\u001b[0;34m,\u001b[0m \u001b[0mdtype\u001b[0m\u001b[0;34m=\u001b[0m\u001b[0mdtype\u001b[0m\u001b[0;34m,\u001b[0m \u001b[0mcopy\u001b[0m\u001b[0;34m=\u001b[0m\u001b[0;32mFalse\u001b[0m\u001b[0;34m)\u001b[0m\u001b[0;34m\u001b[0m\u001b[0;34m\u001b[0m\u001b[0m\n\u001b[0m\u001b[1;32m    630\u001b[0m             \u001b[0mcom\u001b[0m\u001b[0;34m.\u001b[0m\u001b[0mrequire_length_match\u001b[0m\u001b[0;34m(\u001b[0m\u001b[0mval\u001b[0m\u001b[0;34m,\u001b[0m \u001b[0mindex\u001b[0m\u001b[0;34m)\u001b[0m\u001b[0;34m\u001b[0m\u001b[0;34m\u001b[0m\u001b[0m\n\u001b[1;32m    631\u001b[0m             \u001b[0mrefs\u001b[0m\u001b[0;34m.\u001b[0m\u001b[0mappend\u001b[0m\u001b[0;34m(\u001b[0m\u001b[0;32mNone\u001b[0m\u001b[0;34m)\u001b[0m\u001b[0;34m\u001b[0m\u001b[0;34m\u001b[0m\u001b[0m\n",
            "\u001b[0;32m/usr/local/lib/python3.11/dist-packages/pandas/core/construction.py\u001b[0m in \u001b[0;36msanitize_array\u001b[0;34m(data, index, dtype, copy, allow_2d)\u001b[0m\n\u001b[1;32m    628\u001b[0m         \u001b[0;31m# e.g. dask array GH#38645\u001b[0m\u001b[0;34m\u001b[0m\u001b[0;34m\u001b[0m\u001b[0m\n\u001b[1;32m    629\u001b[0m         \u001b[0;32mif\u001b[0m \u001b[0;32mnot\u001b[0m \u001b[0mcopy\u001b[0m\u001b[0;34m:\u001b[0m\u001b[0;34m\u001b[0m\u001b[0;34m\u001b[0m\u001b[0m\n\u001b[0;32m--> 630\u001b[0;31m             \u001b[0mdata\u001b[0m \u001b[0;34m=\u001b[0m \u001b[0mnp\u001b[0m\u001b[0;34m.\u001b[0m\u001b[0masarray\u001b[0m\u001b[0;34m(\u001b[0m\u001b[0mdata\u001b[0m\u001b[0;34m)\u001b[0m\u001b[0;34m\u001b[0m\u001b[0;34m\u001b[0m\u001b[0m\n\u001b[0m\u001b[1;32m    631\u001b[0m         \u001b[0;32melse\u001b[0m\u001b[0;34m:\u001b[0m\u001b[0;34m\u001b[0m\u001b[0;34m\u001b[0m\u001b[0m\n\u001b[1;32m    632\u001b[0m             \u001b[0mdata\u001b[0m \u001b[0;34m=\u001b[0m \u001b[0mnp\u001b[0m\u001b[0;34m.\u001b[0m\u001b[0marray\u001b[0m\u001b[0;34m(\u001b[0m\u001b[0mdata\u001b[0m\u001b[0;34m,\u001b[0m \u001b[0mcopy\u001b[0m\u001b[0;34m=\u001b[0m\u001b[0mcopy\u001b[0m\u001b[0;34m)\u001b[0m\u001b[0;34m\u001b[0m\u001b[0;34m\u001b[0m\u001b[0m\n",
            "\u001b[0;32m/usr/local/lib/python3.11/dist-packages/torch/_tensor.py\u001b[0m in \u001b[0;36m__array__\u001b[0;34m(self, dtype)\u001b[0m\n\u001b[1;32m   1060\u001b[0m             \u001b[0;32mreturn\u001b[0m \u001b[0mhandle_torch_function\u001b[0m\u001b[0;34m(\u001b[0m\u001b[0mTensor\u001b[0m\u001b[0;34m.\u001b[0m\u001b[0m__array__\u001b[0m\u001b[0;34m,\u001b[0m \u001b[0;34m(\u001b[0m\u001b[0mself\u001b[0m\u001b[0;34m,\u001b[0m\u001b[0;34m)\u001b[0m\u001b[0;34m,\u001b[0m \u001b[0mself\u001b[0m\u001b[0;34m,\u001b[0m \u001b[0mdtype\u001b[0m\u001b[0;34m=\u001b[0m\u001b[0mdtype\u001b[0m\u001b[0;34m)\u001b[0m\u001b[0;34m\u001b[0m\u001b[0;34m\u001b[0m\u001b[0m\n\u001b[1;32m   1061\u001b[0m         \u001b[0;32mif\u001b[0m \u001b[0mdtype\u001b[0m \u001b[0;32mis\u001b[0m \u001b[0;32mNone\u001b[0m\u001b[0;34m:\u001b[0m\u001b[0;34m\u001b[0m\u001b[0;34m\u001b[0m\u001b[0m\n\u001b[0;32m-> 1062\u001b[0;31m             \u001b[0;32mreturn\u001b[0m \u001b[0mself\u001b[0m\u001b[0;34m.\u001b[0m\u001b[0mnumpy\u001b[0m\u001b[0;34m(\u001b[0m\u001b[0;34m)\u001b[0m\u001b[0;34m\u001b[0m\u001b[0;34m\u001b[0m\u001b[0m\n\u001b[0m\u001b[1;32m   1063\u001b[0m         \u001b[0;32melse\u001b[0m\u001b[0;34m:\u001b[0m\u001b[0;34m\u001b[0m\u001b[0;34m\u001b[0m\u001b[0m\n\u001b[1;32m   1064\u001b[0m             \u001b[0;32mreturn\u001b[0m \u001b[0mself\u001b[0m\u001b[0;34m.\u001b[0m\u001b[0mnumpy\u001b[0m\u001b[0;34m(\u001b[0m\u001b[0;34m)\u001b[0m\u001b[0;34m.\u001b[0m\u001b[0mastype\u001b[0m\u001b[0;34m(\u001b[0m\u001b[0mdtype\u001b[0m\u001b[0;34m,\u001b[0m \u001b[0mcopy\u001b[0m\u001b[0;34m=\u001b[0m\u001b[0;32mFalse\u001b[0m\u001b[0;34m)\u001b[0m\u001b[0;34m\u001b[0m\u001b[0;34m\u001b[0m\u001b[0m\n",
            "\u001b[0;31mRuntimeError\u001b[0m: Numpy is not available"
          ]
        }
      ],
      "source": [
        "def example_mask():\n",
        "    LS_data = pd.concat(\n",
        "        [\n",
        "            pd.DataFrame(\n",
        "                {\n",
        "                    \"Subsequent Mask\": subsequent_mask(20)[0][x, y].flatten(),\n",
        "                    \"Window\": y,\n",
        "                    \"Masking\": x,\n",
        "                }\n",
        "            )\n",
        "            for y in range(20)\n",
        "            for x in range(20)\n",
        "        ]\n",
        "    )\n",
        "\n",
        "    return (\n",
        "        alt.Chart(LS_data)\n",
        "        .mark_rect()\n",
        "        .properties(height=250, width=250)\n",
        "        .encode(\n",
        "            alt.X(\"Window:O\"),\n",
        "            alt.Y(\"Masking:O\"),\n",
        "            alt.Color(\"Subsequent Mask:Q\", scale=alt.Scale(scheme=\"viridis\")),\n",
        "        )\n",
        "        .interactive()\n",
        "    )\n",
        "\n",
        "\n",
        "show_example(example_mask)"
      ]
    },
    {
      "cell_type": "markdown",
      "id": "4946c508",
      "metadata": {
        "id": "4946c508",
        "lines_to_next_cell": 2
      },
      "source": [
        "### Attention\n",
        "\n",
        "An attention function can be described as mapping a query and a set\n",
        "of key-value pairs to an output, where the query, keys, values, and\n",
        "output are all vectors.  The output is computed as a weighted sum of\n",
        "the values, where the weight assigned to each value is computed by a\n",
        "compatibility function of the query with the corresponding key.\n",
        "\n",
        "We call our particular attention \"Scaled Dot-Product Attention\".\n",
        "The input consists of queries and keys of dimension $d_k$, and\n",
        "values of dimension $d_v$.  We compute the dot products of the query\n",
        "with all keys, divide each by $\\sqrt{d_k}$, and apply a softmax\n",
        "function to obtain the weights on the values.\n",
        "\n",
        "\n",
        "\n",
        "![](https://github.com/pumazzo/annotated-transformer/blob/master/images/ModalNet-19.png?raw=1)"
      ]
    },
    {
      "cell_type": "markdown",
      "id": "4fe740ac",
      "metadata": {
        "id": "4fe740ac"
      },
      "source": [
        "\n",
        "In practice, we compute the attention function on a set of queries\n",
        "simultaneously, packed together into a matrix $Q$.  The keys and\n",
        "values are also packed together into matrices $K$ and $V$.  We\n",
        "compute the matrix of outputs as:\n",
        "\n",
        "$$\n",
        "   \\mathrm{Attention}(Q, K, V) = \\mathrm{softmax}(\\frac{QK^T}{\\sqrt{d_k}})V\n",
        "$$"
      ]
    },
    {
      "cell_type": "markdown",
      "source": [
        "### **A comment on self attention**\n",
        "\n",
        "The fundamental operation of any transformer architecture is the self-attention operation.\n",
        "\n",
        "Self-attention is a **sequence-to-sequence** operation: a sequence of vectors goes in, and a sequence of vectors comes out. Let's call the input vectors $(𝐱_1,𝐱_2,…,𝐱_t)$ and the corresponding output vectors $(\\boldsymbol{y}_1 ,…,\\boldsymbol{y}_t)$. The vectors all have dimension k.\n",
        "\n",
        "In any case, all the elemnts can be computed at the same time\n",
        "\n",
        "To produce output vector $\\boldsymbol{y}_i$, the self attention operation simply takes a weighted average over all the input vectors\n",
        "\n",
        "$$\\boldsymbol{y}_=\\sum w_{ij}\\boldsymbol{x}_j$$.\n",
        "\n",
        "Where j indexes over the whole sequence and the weights sum to one over all j. The weight $w_{ij}$ is not a parameter, as in a normal neural net, but it is derived from a function over $\\boldsymbol{x}_j$ and $\\boldsymbol{x}_i.$ The simplest option for this function is the dot product:\n",
        "\n",
        "$$w'_{ij}=\\boldsymbol{x}_{i}^T\\boldsymbol{x}_j$$\n",
        "Note that $\\boldsymbol{x}_i$ is the input vector at the same position as the current output vector $\\boldsymbol{y}_i$.\n",
        "\n",
        "For the next output vector, we get an entirely new series of dot products, and a different weighted sum.\n",
        "\n",
        "The dot product gives us a value anywhere between negative and positive infinity, so we apply a softmax to map the values to [0,1] and to ensure that they sum to 1 over the whole sequence:\n",
        "\n",
        "$$ w_{ij}=\\exp w'_{ij} / \\sum_j \\exp (w'_{ij}).$$\n",
        "\n",
        "And that’s the basic operation of self attention.\n",
        "\n",
        "\n",
        "**More importantly, this is the only operation in the whole architecture that propagates information between vectors. Every other operation in the transformer is applied to each vector in the input sequence without interactions between vectors.**\n",
        "\n",
        "\n",
        "\n",
        "\n",
        "This is the basic principle at work in the self-attention. Let’s say we are faced with a sequence of words.\n",
        "To apply self-attention, we simply assign each word t in our vocabulary an embedding vector \\boldsymbol{v}_t (the values of which we'll learn). This is what's known as an embedding layer in sequence modeling. It turns the word sequence the,cat,walks,on,the,street into the vector sequence\n",
        "\n",
        "$$ \\boldsymbol{v}_{the}, \\boldsymbol{v}_{cat}, \\boldsymbol{v}_{walks}, \\boldsymbol{v}_{on}, \\boldsymbol{v}_{the}, \\boldsymbol{v}_{street}.$$\n",
        "\n",
        "If we feed this sequence into a self-attention layer, the output is another sequence of vectors\n",
        "\n",
        "$$\\boldsymbol{y}_{the}, \\boldsymbol{y}_{cat}, \\boldsymbol{y}_{walks}, \\boldsymbol{y}_{on}, \\boldsymbol{y}_{the}, \\boldsymbol{y}_{street}.$$\n",
        "\n",
        "where $\\boldsymbol{y}_{cat}$ is a weighted sum over all the embedding vectors in the first sequence, weighted by their (normalized) dot-product with $\\boldsymbol{v}_{cat}$.\n",
        "\n",
        "Since we are learning what the values in $\\boldsymbol{v}_{t}$ should be, how \"related\" two words are is entirely determined by the task. In most cases, the definite article the is not very relevant to the interpretation of the other words in the sentence; therefore, we will likely end up with an embedding $\\boldsymbol{y}_{the}$ that has a low or negative dot product with all other words. On the other hand, to interpret what **walks** means in this sentence, it's very helpful to work out who is doing the walking. This is likely expressed by a noun, so for nouns like cat and verbs like walks, we will likely learn embeddings $\\boldsymbol{y}_{cat}$ and $\\boldsymbol{y}_{walk}$ that have a high, positive dot product together.\n",
        "\n",
        "This is the basic intuition behind self-attention. The dot product expresses how related two vectors in the input sequence are, with “related” defined by the learning task, and the output vectors are weighted sums over the whole input sequence, with the weights determined by these dot products.\n",
        "\n",
        "Before we move on, it’s worthwhile to note the following properties, which are unusual for a sequence-to-sequence operation:\n",
        "\n",
        "Main points:\n",
        "\n",
        "  - There are no parameters (yet).\n",
        "    \n",
        "  - What the basic self-attention actually does is entirely determined by whatever mechanism creates the input sequence.\n",
        "    \n",
        "  - Upstream mechanisms, like an embedding layer, drive the self-attention by learning representations with particular dot products (although we’ll add a few parameters later).\n",
        "\n",
        "  - Self attention sees its input as a set, not a sequence.\n",
        "    \n",
        "  - If we permute the input sequence, the output sequence will be exactly the same, except permuted also (i.e. self-attention is permutation equivariant).\n",
        "    \n",
        "  - We will mitigate this somewhat when we build the full transformer, but the self-attention by itself actually ignores the sequential nature of the input.\n"
      ],
      "metadata": {
        "id": "44Wc8yd2YHg5"
      },
      "id": "44Wc8yd2YHg5"
    },
    {
      "cell_type": "code",
      "execution_count": null,
      "id": "6c92d7c5",
      "metadata": {
        "execution": {
          "iopub.execute_input": "2022-05-02T01:25:19.251181Z",
          "iopub.status.busy": "2022-05-02T01:25:19.250905Z",
          "iopub.status.idle": "2022-05-02T01:25:19.253190Z",
          "shell.execute_reply": "2022-05-02T01:25:19.253437Z"
        },
        "id": "6c92d7c5",
        "lines_to_next_cell": 2
      },
      "outputs": [],
      "source": [
        "def attention(query, key, value, mask=None, dropout=None):\n",
        "    \"Compute 'Scaled Dot Product Attention'\"\n",
        "    d_k = query.size(-1)\n",
        "    scores = torch.matmul(query, key.transpose(-2, -1)) / math.sqrt(d_k)\n",
        "    if mask is not None:\n",
        "        scores = scores.masked_fill(mask == 0, -1e9)\n",
        "    p_attn = scores.softmax(dim=-1)\n",
        "    if dropout is not None:\n",
        "        p_attn = dropout(p_attn)\n",
        "    return torch.matmul(p_attn, value), p_attn"
      ]
    },
    {
      "cell_type": "markdown",
      "id": "dd48248c",
      "metadata": {
        "id": "dd48248c"
      },
      "source": [
        "\n",
        "The two most commonly used attention functions are additive\n",
        "attention [(cite)](https://arxiv.org/abs/1409.0473), and dot-product\n",
        "(multiplicative) attention.  Dot-product attention is identical to\n",
        "our algorithm, except for the scaling factor of\n",
        "$\\frac{1}{\\sqrt{d_k}}$. Additive attention computes the\n",
        "compatibility function using a feed-forward network with a single\n",
        "hidden layer.  While the two are similar in theoretical complexity,\n",
        "dot-product attention is much faster and more space-efficient in\n",
        "practice, since it can be implemented using highly optimized matrix\n",
        "multiplication code.\n",
        "\n",
        "\n",
        "While for small values of $d_k$ the two mechanisms perform\n",
        "similarly, additive attention outperforms dot product attention\n",
        "without scaling for larger values of $d_k$\n",
        "[(cite)](https://arxiv.org/abs/1703.03906). We suspect that for\n",
        "large values of $d_k$, the dot products grow large in magnitude,\n",
        "pushing the softmax function into regions where it has extremely\n",
        "small gradients (To illustrate why the dot products get large,\n",
        "assume that the components of $q$ and $k$ are independent random\n",
        "variables with mean $0$ and variance $1$.  Then their dot product,\n",
        "$q \\cdot k = \\sum_{i=1}^{d_k} q_ik_i$, has mean $0$ and variance\n",
        "$d_k$.). To counteract this effect, we scale the dot products by\n",
        "$\\frac{1}{\\sqrt{d_k}}$.\n",
        "\n"
      ]
    },
    {
      "cell_type": "markdown",
      "id": "e4c162ba",
      "metadata": {
        "id": "e4c162ba",
        "lines_to_next_cell": 2
      },
      "source": [
        "![](https://github.com/pumazzo/annotated-transformer/blob/master/images/ModalNet-20.png?raw=1)"
      ]
    },
    {
      "cell_type": "markdown",
      "id": "795454ef",
      "metadata": {
        "id": "795454ef"
      },
      "source": [
        "\n",
        "Multi-head attention allows the model to jointly attend to\n",
        "information from different representation subspaces at different\n",
        "positions. With a single attention head, averaging inhibits this.\n",
        "\n",
        "$$\n",
        "\\mathrm{MultiHead}(Q, K, V) =\n",
        "    \\mathrm{Concat}(\\mathrm{head_1}, ..., \\mathrm{head_h})W^O \\\\\n",
        "    \\text{where}~\\mathrm{head_i} = \\mathrm{Attention}(QW^Q_i, KW^K_i, VW^V_i)\n",
        "$$\n",
        "\n",
        "Where the projections are parameter matrices $W^Q_i \\in\n",
        "\\mathbb{R}^{d_{\\text{model}} \\times d_k}$, $W^K_i \\in\n",
        "\\mathbb{R}^{d_{\\text{model}} \\times d_k}$, $W^V_i \\in\n",
        "\\mathbb{R}^{d_{\\text{model}} \\times d_v}$ and $W^O \\in\n",
        "\\mathbb{R}^{hd_v \\times d_{\\text{model}}}$.\n",
        "\n",
        "In this work we employ $h=8$ parallel attention layers, or\n",
        "heads. For each of these we use $d_k=d_v=d_{\\text{model}}/h=64$. Due\n",
        "to the reduced dimension of each head, the total computational cost\n",
        "is similar to that of single-head attention with full\n",
        "dimensionality."
      ]
    },
    {
      "cell_type": "markdown",
      "source": [
        "### A comment on multi head attention\n",
        "\n",
        "we must account for the fact that a word can mean different things to different neighbours. Consider the following example.\n",
        "\n",
        "$$mary,gave,roses,to,susan$$\n",
        "\n",
        "We see that the word gave has different relations to different parts of the sentence. mary expresses who’s doing the giving, roses expresses what’s being given, and susan expresses who the recipient is.\n",
        "\n",
        "In a single self-attention operation, all this information just gets summed together.\n",
        "\n",
        "The inputs $\\boldsymbol{v}_{mary}$ and $\\boldsymbol{v}_{susan}$ can influence the output $\\boldsymbol{y}_{gave}$ by different amounts, depending on their dot-product with $\\boldsymbol{x}_{gave}$, but they can’t influence it in different ways. If, for instance, we want the information about who gave the roses and who received them to end up in different parts of $\\boldsymbol{y}_{gave}$, we need a little more flexibility.\n",
        "\n",
        "This leaves aside how we figure out who gave the roses:\n",
        "-  We can do that based on prior knowledge about Mary and Susan, encoded in the embeddings but the preprocessing will need a lot of works.\n",
        "\n",
        "- We can also look at the order of the words but you know that attention work on sets so far\n",
        "\n",
        "We can give the self attention greater power of discrimination, by combining several self-attention mechanisms (which we'll index with r), each with different matrices 𝐖rq, 𝐖rk,𝐖rv. These are called attention heads.\n",
        "\n",
        "For input $\\boldsymbol{v}_{i}$ each attention head produces a different output vector $\\boldsymbol{y}_{ri}$. We concatenate these, and pass them through a **linear transformation** to reduce the dimension back to k.\n",
        "The linear transformation is learned, these are parameters in the model."
      ],
      "metadata": {
        "id": "h2IN64akfQNs"
      },
      "id": "h2IN64akfQNs"
    },
    {
      "cell_type": "code",
      "source": [],
      "metadata": {
        "id": "O_uOzbP6fPHD"
      },
      "id": "O_uOzbP6fPHD",
      "execution_count": null,
      "outputs": []
    },
    {
      "cell_type": "code",
      "execution_count": null,
      "id": "e7901bdc",
      "metadata": {
        "execution": {
          "iopub.execute_input": "2022-05-02T01:25:19.265961Z",
          "iopub.status.busy": "2022-05-02T01:25:19.265360Z",
          "iopub.status.idle": "2022-05-02T01:25:19.267873Z",
          "shell.execute_reply": "2022-05-02T01:25:19.267306Z"
        },
        "id": "e7901bdc"
      },
      "outputs": [],
      "source": [
        "class MultiHeadedAttention(nn.Module):\n",
        "    def __init__(self, h, d_model, dropout=0.1):\n",
        "        \"Take in model size and number of heads.\"\n",
        "        super(MultiHeadedAttention, self).__init__()\n",
        "        assert d_model % h == 0\n",
        "        # We assume d_v always equals d_k\n",
        "        self.d_k = d_model // h\n",
        "        self.h = h\n",
        "        self.linears = clones(nn.Linear(d_model, d_model), 4)\n",
        "        self.attn = None\n",
        "        self.dropout = nn.Dropout(p=dropout)\n",
        "\n",
        "    def forward(self, query, key, value, mask=None):\n",
        "        \"Implements Figure 2\"\n",
        "        if mask is not None:\n",
        "            # Same mask applied to all h heads.\n",
        "            mask = mask.unsqueeze(1)\n",
        "        nbatches = query.size(0)\n",
        "\n",
        "        # 1) Do all the linear projections in batch from d_model => h x d_k\n",
        "        query, key, value = [\n",
        "            lin(x).view(nbatches, -1, self.h, self.d_k).transpose(1, 2)\n",
        "            for lin, x in zip(self.linears, (query, key, value))\n",
        "        ]\n",
        "\n",
        "        # 2) Apply attention on all the projected vectors in batch.\n",
        "        x, self.attn = attention(\n",
        "            query, key, value, mask=mask, dropout=self.dropout\n",
        "        )\n",
        "\n",
        "        # 3) \"Concat\" using a view and apply a final linear.\n",
        "        x = (\n",
        "            x.transpose(1, 2)\n",
        "            .contiguous()\n",
        "            .view(nbatches, -1, self.h * self.d_k)\n",
        "        )\n",
        "        del query\n",
        "        del key\n",
        "        del value\n",
        "        return self.linears[-1](x)"
      ]
    },
    {
      "cell_type": "markdown",
      "id": "8223c349",
      "metadata": {
        "id": "8223c349"
      },
      "source": [
        "### Applications of Attention in our Model\n",
        "\n",
        "The Transformer uses multi-head attention in three different ways:\n",
        "1) In \"encoder-decoder attention\" layers, the queries come from the\n",
        "previous decoder layer, and the memory keys and values come from the\n",
        "output of the encoder.  This allows every position in the decoder to\n",
        "attend over all positions in the input sequence.  This mimics the\n",
        "typical encoder-decoder attention mechanisms in sequence-to-sequence\n",
        "models such as [(cite)](https://arxiv.org/abs/1609.08144).\n",
        "\n",
        "\n",
        "2) The encoder contains self-attention layers.  In a self-attention\n",
        "layer all of the keys, values and queries come from the same place,\n",
        "in this case, the output of the previous layer in the encoder.  Each\n",
        "position in the encoder can attend to all positions in the previous\n",
        "layer of the encoder.\n",
        "\n",
        "\n",
        "3) Similarly, self-attention layers in the decoder allow each\n",
        "position in the decoder to attend to all positions in the decoder up\n",
        "to and including that position.  We need to prevent leftward\n",
        "information flow in the decoder to preserve the auto-regressive\n",
        "property.  We implement this inside of scaled dot-product attention\n",
        "by masking out (setting to $-\\infty$) all values in the input of the\n",
        "softmax which correspond to illegal connections."
      ]
    },
    {
      "cell_type": "markdown",
      "id": "8299eb68",
      "metadata": {
        "id": "8299eb68"
      },
      "source": [
        "## Position-wise Feed-Forward Networks\n",
        "\n",
        "In addition to attention sub-layers, each of the layers in our\n",
        "encoder and decoder contains a fully connected feed-forward network,\n",
        "which is applied to each position separately and identically.  This\n",
        "consists of two linear transformations with a ReLU activation in\n",
        "between.\n",
        "\n",
        "$$\\mathrm{FFN}(x)=\\max(0, xW_1 + b_1) W_2 + b_2$$\n",
        "\n",
        "While the linear transformations are the same across different\n",
        "positions, they use different parameters from layer to\n",
        "layer. Another way of describing this is as two convolutions with\n",
        "kernel size 1.  The dimensionality of input and output is\n",
        "$d_{\\text{model}}=512$, and the inner-layer has dimensionality\n",
        "$d_{ff}=2048$."
      ]
    },
    {
      "cell_type": "code",
      "execution_count": null,
      "id": "cf547802",
      "metadata": {
        "execution": {
          "iopub.execute_input": "2022-05-02T01:25:19.274902Z",
          "iopub.status.busy": "2022-05-02T01:25:19.274161Z",
          "iopub.status.idle": "2022-05-02T01:25:19.277708Z",
          "shell.execute_reply": "2022-05-02T01:25:19.278473Z"
        },
        "id": "cf547802"
      },
      "outputs": [],
      "source": [
        "class PositionwiseFeedForward(nn.Module):\n",
        "    \"Implements FFN equation.\"\n",
        "\n",
        "    def __init__(self, d_model, d_ff, dropout=0.1):\n",
        "        super(PositionwiseFeedForward, self).__init__()\n",
        "        self.w_1 = nn.Linear(d_model, d_ff)\n",
        "        self.w_2 = nn.Linear(d_ff, d_model)\n",
        "        self.dropout = nn.Dropout(dropout)\n",
        "\n",
        "    def forward(self, x):\n",
        "        return self.w_2(self.dropout(self.w_1(x).relu()))"
      ]
    },
    {
      "cell_type": "markdown",
      "id": "9c1dcffc",
      "metadata": {
        "id": "9c1dcffc"
      },
      "source": [
        "## Embeddings and Softmax\n",
        "\n",
        "Similarly to other sequence transduction models, we use learned\n",
        "embeddings to convert the input tokens and output tokens to vectors\n",
        "of dimension $d_{\\text{model}}$.  We also use the usual learned\n",
        "linear transformation and softmax function to convert the decoder\n",
        "output to predicted next-token probabilities.  In our model, we\n",
        "share the same weight matrix between the two embedding layers and\n",
        "the pre-softmax linear transformation, similar to\n",
        "[(cite)](https://arxiv.org/abs/1608.05859). In the embedding layers,\n",
        "we multiply those weights by $\\sqrt{d_{\\text{model}}}$."
      ]
    },
    {
      "cell_type": "code",
      "execution_count": null,
      "id": "f851b029",
      "metadata": {
        "execution": {
          "iopub.execute_input": "2022-05-02T01:25:19.286884Z",
          "iopub.status.busy": "2022-05-02T01:25:19.285947Z",
          "iopub.status.idle": "2022-05-02T01:25:19.288160Z",
          "shell.execute_reply": "2022-05-02T01:25:19.288878Z"
        },
        "id": "f851b029"
      },
      "outputs": [],
      "source": [
        "class Embeddings(nn.Module):\n",
        "    def __init__(self, d_model, vocab):\n",
        "        super(Embeddings, self).__init__()\n",
        "        self.lut = nn.Embedding(vocab, d_model)\n",
        "        self.d_model = d_model\n",
        "\n",
        "    def forward(self, x):\n",
        "        return self.lut(x) * math.sqrt(self.d_model)"
      ]
    },
    {
      "cell_type": "markdown",
      "id": "a6005590",
      "metadata": {
        "id": "a6005590"
      },
      "source": [
        "## Positional Encoding\n",
        "\n",
        "Since our model contains no recurrence and no convolution, in order\n",
        "for the model to make use of the order of the sequence, we must\n",
        "inject some information about the relative or absolute position of\n",
        "the tokens in the sequence.  To this end, we add \"positional\n",
        "encodings\" to the input embeddings at the bottoms of the encoder and\n",
        "decoder stacks.  The positional encodings have the same dimension\n",
        "$d_{\\text{model}}$ as the embeddings, so that the two can be summed.\n",
        "There are many choices of positional encodings, learned and fixed\n",
        "[(cite)](https://arxiv.org/pdf/1705.03122.pdf).\n",
        "\n",
        "In this work, we use sine and cosine functions of different frequencies:\n",
        "\n",
        "$$PE_{(pos,2i)} = \\sin(pos / 10000^{2i/d_{\\text{model}}})$$\n",
        "\n",
        "$$PE_{(pos,2i+1)} = \\cos(pos / 10000^{2i/d_{\\text{model}}})$$\n",
        "\n",
        "where $pos$ is the position and $i$ is the dimension.  That is, each\n",
        "dimension of the positional encoding corresponds to a sinusoid.  The\n",
        "wavelengths form a geometric progression from $2\\pi$ to $10000 \\cdot\n",
        "2\\pi$.  We chose this function because we hypothesized it would\n",
        "allow the model to easily learn to attend by relative positions,\n",
        "since for any fixed offset $k$, $PE_{pos+k}$ can be represented as a\n",
        "linear function of $PE_{pos}$.\n",
        "\n",
        "In addition, we apply dropout to the sums of the embeddings and the\n",
        "positional encodings in both the encoder and decoder stacks.  For\n",
        "the base model, we use a rate of $P_{drop}=0.1$.\n",
        "\n"
      ]
    },
    {
      "cell_type": "markdown",
      "source": [
        "# A comment on the positional embedding\n",
        "We’ve also mentioned already, we’re stacking permutation equivariant layers, and the final global average pooling is permutation invariant, so the network as a whole is also permutation invariant. Put more simply: if we shuffle up the words in the sentence, we get the exact same classification, whatever weights we learn. Clearly, we want our state-of-the-art language model to have at least some sensitivity to word order, so this needs to be fixed.\n",
        "\n",
        "The solution is simple: we create a second vector of equal length, that represents the position of the word in the current sentence, and add this to the word embedding."
      ],
      "metadata": {
        "id": "5C4W-bNfhbhs"
      },
      "id": "5C4W-bNfhbhs"
    },
    {
      "cell_type": "code",
      "source": [],
      "metadata": {
        "id": "tqtA-bZXha4j"
      },
      "id": "tqtA-bZXha4j",
      "execution_count": null,
      "outputs": []
    },
    {
      "cell_type": "code",
      "execution_count": null,
      "id": "dfacc553",
      "metadata": {
        "execution": {
          "iopub.execute_input": "2022-05-02T01:25:19.300508Z",
          "iopub.status.busy": "2022-05-02T01:25:19.299554Z",
          "iopub.status.idle": "2022-05-02T01:25:19.301927Z",
          "shell.execute_reply": "2022-05-02T01:25:19.302701Z"
        },
        "id": "dfacc553"
      },
      "outputs": [],
      "source": [
        "class PositionalEncoding(nn.Module):\n",
        "    \"Implement the PE function.\"\n",
        "\n",
        "    def __init__(self, d_model, dropout, max_len=5000):\n",
        "        super(PositionalEncoding, self).__init__()\n",
        "        self.dropout = nn.Dropout(p=dropout)\n",
        "\n",
        "        # Compute the positional encodings once in log space.\n",
        "        pe = torch.zeros(max_len, d_model)\n",
        "        position = torch.arange(0, max_len).unsqueeze(1)\n",
        "        div_term = torch.exp(\n",
        "            torch.arange(0, d_model, 2) * -(math.log(10000.0) / d_model)\n",
        "        )\n",
        "        pe[:, 0::2] = torch.sin(position * div_term)\n",
        "        pe[:, 1::2] = torch.cos(position * div_term)\n",
        "        pe = pe.unsqueeze(0)\n",
        "        self.register_buffer(\"pe\", pe)\n",
        "\n",
        "    def forward(self, x):\n",
        "        x = x + self.pe[:, : x.size(1)].requires_grad_(False)\n",
        "        return self.dropout(x)"
      ]
    },
    {
      "cell_type": "markdown",
      "id": "04de678b",
      "metadata": {
        "id": "04de678b"
      },
      "source": [
        "\n",
        "> Below the positional encoding will add in a sine wave based on\n",
        "> position. The frequency and offset of the wave is different for\n",
        "> each dimension."
      ]
    },
    {
      "cell_type": "code",
      "execution_count": null,
      "id": "c37945f2",
      "metadata": {
        "execution": {
          "iopub.execute_input": "2022-05-02T01:25:19.312150Z",
          "iopub.status.busy": "2022-05-02T01:25:19.311259Z",
          "iopub.status.idle": "2022-05-02T01:25:19.626150Z",
          "shell.execute_reply": "2022-05-02T01:25:19.626854Z"
        },
        "id": "c37945f2",
        "type": "example"
      },
      "outputs": [],
      "source": [
        "def example_positional():\n",
        "    pe = PositionalEncoding(20, 0)\n",
        "    y = pe.forward(torch.zeros(1, 100, 20))\n",
        "\n",
        "    data = pd.concat(\n",
        "        [\n",
        "            pd.DataFrame(\n",
        "                {\n",
        "                    \"embedding\": y[0, :, dim],\n",
        "                    \"dimension\": dim,\n",
        "                    \"position\": list(range(100)),\n",
        "                }\n",
        "            )\n",
        "            for dim in [4, 5, 6, 7]\n",
        "        ]\n",
        "    )\n",
        "\n",
        "    return (\n",
        "        alt.Chart(data)\n",
        "        .mark_line()\n",
        "        .properties(width=800)\n",
        "        .encode(x=\"position\", y=\"embedding\", color=\"dimension:N\")\n",
        "        .interactive()\n",
        "    )\n",
        "\n",
        "\n",
        "show_example(example_positional)"
      ]
    },
    {
      "cell_type": "markdown",
      "id": "2bc7f6c2",
      "metadata": {
        "id": "2bc7f6c2"
      },
      "source": [
        "\n",
        "We also experimented with using learned positional embeddings\n",
        "[(cite)](https://arxiv.org/pdf/1705.03122.pdf) instead, and found\n",
        "that the two versions produced nearly identical results.  We chose\n",
        "the sinusoidal version because it may allow the model to extrapolate\n",
        "to sequence lengths longer than the ones encountered during\n",
        "training."
      ]
    },
    {
      "cell_type": "markdown",
      "id": "74aef3a8",
      "metadata": {
        "id": "74aef3a8"
      },
      "source": [
        "## Full Model\n",
        "\n",
        "> Here we define a function from hyperparameters to a full model."
      ]
    },
    {
      "cell_type": "code",
      "execution_count": null,
      "id": "460e5768",
      "metadata": {
        "execution": {
          "iopub.execute_input": "2022-05-02T01:25:19.633281Z",
          "iopub.status.busy": "2022-05-02T01:25:19.632424Z",
          "iopub.status.idle": "2022-05-02T01:25:19.634909Z",
          "shell.execute_reply": "2022-05-02T01:25:19.634216Z"
        },
        "id": "460e5768"
      },
      "outputs": [],
      "source": [
        "def make_model(\n",
        "    src_vocab, tgt_vocab, N=6, d_model=512, d_ff=2048, h=8, dropout=0.1\n",
        "):\n",
        "    \"Helper: Construct a model from hyperparameters.\"\n",
        "    c = copy.deepcopy\n",
        "    attn = MultiHeadedAttention(h, d_model)\n",
        "    ff = PositionwiseFeedForward(d_model, d_ff, dropout)\n",
        "    position = PositionalEncoding(d_model, dropout)\n",
        "    model = EncoderDecoder(\n",
        "        Encoder(EncoderLayer(d_model, c(attn), c(ff), dropout), N),\n",
        "        Decoder(DecoderLayer(d_model, c(attn), c(attn), c(ff), dropout), N),\n",
        "        nn.Sequential(Embeddings(d_model, src_vocab), c(position)),\n",
        "        nn.Sequential(Embeddings(d_model, tgt_vocab), c(position)),\n",
        "        Generator(d_model, tgt_vocab),\n",
        "    )\n",
        "\n",
        "    # This was important from their code.\n",
        "    # Initialize parameters with Glorot / fan_avg.\n",
        "    for p in model.parameters():\n",
        "        if p.dim() > 1:\n",
        "            nn.init.xavier_uniform_(p)\n",
        "    return model"
      ]
    },
    {
      "cell_type": "markdown",
      "id": "0e5767b6",
      "metadata": {
        "id": "0e5767b6"
      },
      "source": [
        "## Inference:\n",
        "\n",
        "> Here we make a forward step to generate a prediction of the\n",
        "model. We try to use our transformer to memorize the input. As you\n",
        "will see the output is randomly generated due to the fact that the\n",
        "model is not trained yet. In the next tutorial we will build the\n",
        "training function and try to train our model to memorize the numbers\n",
        "from 1 to 10."
      ]
    },
    {
      "cell_type": "code",
      "execution_count": null,
      "id": "316fb1d2",
      "metadata": {
        "execution": {
          "iopub.execute_input": "2022-05-02T01:25:19.641806Z",
          "iopub.status.busy": "2022-05-02T01:25:19.640944Z",
          "iopub.status.idle": "2022-05-02T01:25:20.885368Z",
          "shell.execute_reply": "2022-05-02T01:25:20.885607Z"
        },
        "id": "316fb1d2"
      },
      "outputs": [],
      "source": [
        "def inference_test():\n",
        "    test_model = make_model(11, 11, 2)\n",
        "    test_model.eval()\n",
        "    src = torch.LongTensor([[1, 2, 3, 4, 5, 6, 7, 8, 9, 10]])\n",
        "    src_mask = torch.ones(1, 1, 10)\n",
        "\n",
        "    memory = test_model.encode(src, src_mask)\n",
        "    ys = torch.zeros(1, 1).type_as(src)\n",
        "\n",
        "    for i in range(9):\n",
        "        out = test_model.decode(\n",
        "            memory, src_mask, ys, subsequent_mask(ys.size(1)).type_as(src.data)\n",
        "        )\n",
        "        prob = test_model.generator(out[:, -1])\n",
        "        _, next_word = torch.max(prob, dim=1)\n",
        "        next_word = next_word.data[0]\n",
        "        ys = torch.cat(\n",
        "            [ys, torch.empty(1, 1).type_as(src.data).fill_(next_word)], dim=1\n",
        "        )\n",
        "\n",
        "    print(\"Example Untrained Model Prediction:\", ys)\n",
        "\n",
        "\n",
        "def run_tests():\n",
        "    for _ in range(10):\n",
        "        inference_test()\n",
        "\n",
        "\n",
        "show_example(run_tests)"
      ]
    },
    {
      "cell_type": "markdown",
      "id": "859848fd",
      "metadata": {
        "id": "859848fd"
      },
      "source": [
        "# Part 2: Model Training"
      ]
    },
    {
      "cell_type": "markdown",
      "id": "16acd58b",
      "metadata": {
        "id": "16acd58b"
      },
      "source": [
        "# Training\n",
        "\n",
        "This section describes the training regime for our models."
      ]
    },
    {
      "cell_type": "markdown",
      "id": "7e4dad0d",
      "metadata": {
        "id": "7e4dad0d"
      },
      "source": [
        "\n",
        "> We stop for a quick interlude to introduce some of the tools\n",
        "> needed to train a standard encoder decoder model. First we define a\n",
        "> batch object that holds the src and target sentences for training,\n",
        "> as well as constructing the masks."
      ]
    },
    {
      "cell_type": "markdown",
      "id": "918f5ddd",
      "metadata": {
        "id": "918f5ddd"
      },
      "source": [
        "## Batches and Masking"
      ]
    },
    {
      "cell_type": "code",
      "execution_count": null,
      "id": "4ee20bc4",
      "metadata": {
        "execution": {
          "iopub.execute_input": "2022-05-02T01:25:20.889839Z",
          "iopub.status.busy": "2022-05-02T01:25:20.889563Z",
          "iopub.status.idle": "2022-05-02T01:25:20.890646Z",
          "shell.execute_reply": "2022-05-02T01:25:20.892925Z"
        },
        "id": "4ee20bc4"
      },
      "outputs": [],
      "source": [
        "class Batch:\n",
        "    \"\"\"Object for holding a batch of data with mask during training.\"\"\"\n",
        "\n",
        "    def __init__(self, src, tgt=None, pad=2):  # 2 = <blank>\n",
        "        self.src = src\n",
        "        self.src_mask = (src != pad).unsqueeze(-2)\n",
        "        if tgt is not None:\n",
        "            self.tgt = tgt[:, :-1]\n",
        "            self.tgt_y = tgt[:, 1:]\n",
        "            self.tgt_mask = self.make_std_mask(self.tgt, pad)\n",
        "            self.ntokens = (self.tgt_y != pad).data.sum()\n",
        "\n",
        "    @staticmethod\n",
        "    def make_std_mask(tgt, pad):\n",
        "        \"Create a mask to hide padding and future words.\"\n",
        "        tgt_mask = (tgt != pad).unsqueeze(-2)\n",
        "        tgt_mask = tgt_mask & subsequent_mask(tgt.size(-1)).type_as(\n",
        "            tgt_mask.data\n",
        "        )\n",
        "        return tgt_mask"
      ]
    },
    {
      "cell_type": "markdown",
      "id": "a013a116",
      "metadata": {
        "id": "a013a116"
      },
      "source": [
        "\n",
        "> Next we create a generic training and scoring function to keep\n",
        "> track of loss. We pass in a generic loss compute function that\n",
        "> also handles parameter updates."
      ]
    },
    {
      "cell_type": "markdown",
      "id": "934a7a4d",
      "metadata": {
        "id": "934a7a4d"
      },
      "source": [
        "## Training Loop"
      ]
    },
    {
      "cell_type": "code",
      "execution_count": null,
      "id": "bd32298c",
      "metadata": {
        "execution": {
          "iopub.execute_input": "2022-05-02T01:25:20.895558Z",
          "iopub.status.busy": "2022-05-02T01:25:20.895196Z",
          "iopub.status.idle": "2022-05-02T01:25:20.896378Z",
          "shell.execute_reply": "2022-05-02T01:25:20.896666Z"
        },
        "id": "bd32298c"
      },
      "outputs": [],
      "source": [
        "class TrainState:\n",
        "    \"\"\"Track number of steps, examples, and tokens processed\"\"\"\n",
        "\n",
        "    step: int = 0  # Steps in the current epoch\n",
        "    accum_step: int = 0  # Number of gradient accumulation steps\n",
        "    samples: int = 0  # total # of examples used\n",
        "    tokens: int = 0  # total # of tokens processed"
      ]
    },
    {
      "cell_type": "code",
      "execution_count": null,
      "id": "1013f248",
      "metadata": {
        "execution": {
          "iopub.execute_input": "2022-05-02T01:25:20.901877Z",
          "iopub.status.busy": "2022-05-02T01:25:20.897925Z",
          "iopub.status.idle": "2022-05-02T01:25:20.903288Z",
          "shell.execute_reply": "2022-05-02T01:25:20.902928Z"
        },
        "id": "1013f248"
      },
      "outputs": [],
      "source": [
        "def run_epoch(\n",
        "    data_iter,\n",
        "    model,\n",
        "    loss_compute,\n",
        "    optimizer,\n",
        "    scheduler,\n",
        "    mode=\"train\",\n",
        "    accum_iter=1,\n",
        "    train_state=TrainState(),\n",
        "):\n",
        "    \"\"\"Train a single epoch\"\"\"\n",
        "    start = time.time()\n",
        "    total_tokens = 0\n",
        "    total_loss = 0\n",
        "    tokens = 0\n",
        "    n_accum = 0\n",
        "    for i, batch in enumerate(data_iter):\n",
        "        out = model.forward(\n",
        "            batch.src, batch.tgt, batch.src_mask, batch.tgt_mask\n",
        "        )\n",
        "        loss, loss_node = loss_compute(out, batch.tgt_y, batch.ntokens)\n",
        "        # loss_node = loss_node / accum_iter\n",
        "        if mode == \"train\" or mode == \"train+log\":\n",
        "            loss_node.backward()\n",
        "            train_state.step += 1\n",
        "            train_state.samples += batch.src.shape[0]\n",
        "            train_state.tokens += batch.ntokens\n",
        "            if i % accum_iter == 0:\n",
        "                optimizer.step()\n",
        "                optimizer.zero_grad(set_to_none=True)\n",
        "                n_accum += 1\n",
        "                train_state.accum_step += 1\n",
        "            scheduler.step()\n",
        "\n",
        "        total_loss += loss\n",
        "        total_tokens += batch.ntokens\n",
        "        tokens += batch.ntokens\n",
        "        if i % 40 == 1 and (mode == \"train\" or mode == \"train+log\"):\n",
        "            lr = optimizer.param_groups[0][\"lr\"]\n",
        "            elapsed = time.time() - start\n",
        "            print(\n",
        "                (\n",
        "                    \"Epoch Step: %6d | Accumulation Step: %3d | Loss: %6.2f \"\n",
        "                    + \"| Tokens / Sec: %7.1f | Learning Rate: %6.1e\"\n",
        "                )\n",
        "                % (i, n_accum, loss / batch.ntokens, tokens / elapsed, lr)\n",
        "            )\n",
        "            start = time.time()\n",
        "            tokens = 0\n",
        "        del loss\n",
        "        del loss_node\n",
        "    return total_loss / total_tokens, train_state"
      ]
    },
    {
      "cell_type": "markdown",
      "id": "b78103ca",
      "metadata": {
        "id": "b78103ca"
      },
      "source": [
        "## Training Data and Batching\n",
        "\n",
        "We trained on the standard WMT 2014 English-German dataset\n",
        "consisting of about 4.5 million sentence pairs.  Sentences were\n",
        "encoded using byte-pair encoding, which has a shared source-target\n",
        "vocabulary of about 37000 tokens. For English-French, we used the\n",
        "significantly larger WMT 2014 English-French dataset consisting of\n",
        "36M sentences and split tokens into a 32000 word-piece vocabulary.\n",
        "\n",
        "\n",
        "Sentence pairs were batched together by approximate sequence length.\n",
        "Each training batch contained a set of sentence pairs containing\n",
        "approximately 25000 source tokens and 25000 target tokens."
      ]
    },
    {
      "cell_type": "markdown",
      "id": "d0b5c7b1",
      "metadata": {
        "incorrectly_encoded_metadata": "id=\"F1mTQatiTsqJ\" jp-MarkdownHeadingCollapsed=true",
        "tags": [],
        "id": "d0b5c7b1"
      },
      "source": [
        "## Hardware and Schedule\n",
        "\n",
        "We trained our models on one machine with 8 NVIDIA P100 GPUs.  For\n",
        "our base models using the hyperparameters described throughout the\n",
        "paper, each training step took about 0.4 seconds.  We trained the\n",
        "base models for a total of 100,000 steps or 12 hours. For our big\n",
        "models, step time was 1.0 seconds.  The big models were trained for\n",
        "300,000 steps (3.5 days)."
      ]
    },
    {
      "cell_type": "markdown",
      "id": "3af07c4b",
      "metadata": {
        "id": "3af07c4b"
      },
      "source": [
        "## Optimizer\n",
        "\n",
        "We used the Adam optimizer [(cite)](https://arxiv.org/abs/1412.6980)\n",
        "with $\\beta_1=0.9$, $\\beta_2=0.98$ and $\\epsilon=10^{-9}$.  We\n",
        "varied the learning rate over the course of training, according to\n",
        "the formula:\n",
        "\n",
        "$$\n",
        "lrate = d_{\\text{model}}^{-0.5} \\cdot\n",
        "  \\min({step\\_num}^{-0.5},\n",
        "    {step\\_num} \\cdot {warmup\\_steps}^{-1.5})\n",
        "$$\n",
        "\n",
        "This corresponds to increasing the learning rate linearly for the\n",
        "first $warmup\\_steps$ training steps, and decreasing it thereafter\n",
        "proportionally to the inverse square root of the step number.  We\n",
        "used $warmup\\_steps=4000$."
      ]
    },
    {
      "cell_type": "markdown",
      "id": "760a2716",
      "metadata": {
        "id": "760a2716"
      },
      "source": [
        "\n",
        "> Note: This part is very important. Need to train with this setup\n",
        "> of the model."
      ]
    },
    {
      "cell_type": "markdown",
      "id": "e809dff8",
      "metadata": {
        "id": "e809dff8"
      },
      "source": [
        "\n",
        "> Example of the curves of this model for different model sizes and\n",
        "> for optimization hyperparameters."
      ]
    },
    {
      "cell_type": "code",
      "execution_count": null,
      "id": "27ded57a",
      "metadata": {
        "execution": {
          "iopub.execute_input": "2022-05-02T01:25:20.906007Z",
          "iopub.status.busy": "2022-05-02T01:25:20.904743Z",
          "iopub.status.idle": "2022-05-02T01:25:20.907701Z",
          "shell.execute_reply": "2022-05-02T01:25:20.907236Z"
        },
        "id": "27ded57a"
      },
      "outputs": [],
      "source": [
        "def rate(step, model_size, factor, warmup):\n",
        "    \"\"\"\n",
        "    we have to default the step to 1 for LambdaLR function\n",
        "    to avoid zero raising to negative power.\n",
        "    \"\"\"\n",
        "    if step == 0:\n",
        "        step = 1\n",
        "    return factor * (\n",
        "        model_size ** (-0.5) * min(step ** (-0.5), step * warmup ** (-1.5))\n",
        "    )"
      ]
    },
    {
      "cell_type": "code",
      "execution_count": null,
      "id": "043518a6",
      "metadata": {
        "execution": {
          "iopub.execute_input": "2022-05-02T01:25:20.913235Z",
          "iopub.status.busy": "2022-05-02T01:25:20.912751Z",
          "iopub.status.idle": "2022-05-02T01:25:22.846903Z",
          "shell.execute_reply": "2022-05-02T01:25:22.846024Z"
        },
        "id": "043518a6",
        "tags": []
      },
      "outputs": [],
      "source": [
        "def example_learning_schedule():\n",
        "    opts = [\n",
        "        [512, 1, 4000],  # example 1\n",
        "        [512, 1, 8000],  # example 2\n",
        "        [256, 1, 4000],  # example 3\n",
        "    ]\n",
        "\n",
        "    dummy_model = torch.nn.Linear(1, 1)\n",
        "    learning_rates = []\n",
        "\n",
        "    # we have 3 examples in opts list.\n",
        "    for idx, example in enumerate(opts):\n",
        "        # run 20000 epoch for each example\n",
        "        optimizer = torch.optim.Adam(\n",
        "            dummy_model.parameters(), lr=1, betas=(0.9, 0.98), eps=1e-9\n",
        "        )\n",
        "        lr_scheduler = LambdaLR(\n",
        "            optimizer=optimizer, lr_lambda=lambda step: rate(step, *example)\n",
        "        )\n",
        "        tmp = []\n",
        "        # take 20K dummy training steps, save the learning rate at each step\n",
        "        for step in range(20000):\n",
        "            tmp.append(optimizer.param_groups[0][\"lr\"])\n",
        "            optimizer.step()\n",
        "            lr_scheduler.step()\n",
        "        learning_rates.append(tmp)\n",
        "\n",
        "    learning_rates = torch.tensor(learning_rates)\n",
        "\n",
        "    # Enable altair to handle more than 5000 rows\n",
        "    alt.data_transformers.disable_max_rows()\n",
        "\n",
        "    opts_data = pd.concat(\n",
        "        [\n",
        "            pd.DataFrame(\n",
        "                {\n",
        "                    \"Learning Rate\": learning_rates[warmup_idx, :],\n",
        "                    \"model_size:warmup\": [\"512:4000\", \"512:8000\", \"256:4000\"][\n",
        "                        warmup_idx\n",
        "                    ],\n",
        "                    \"step\": range(20000),\n",
        "                }\n",
        "            )\n",
        "            for warmup_idx in [0, 1, 2]\n",
        "        ]\n",
        "    )\n",
        "\n",
        "    return (\n",
        "        alt.Chart(opts_data)\n",
        "        .mark_line()\n",
        "        .properties(width=600)\n",
        "        .encode(x=\"step\", y=\"Learning Rate\", color=\"model_size:warmup:N\")\n",
        "        .interactive()\n",
        "    )\n",
        "\n",
        "\n",
        "example_learning_schedule()"
      ]
    },
    {
      "cell_type": "markdown",
      "id": "aa2e3c6e",
      "metadata": {
        "id": "aa2e3c6e"
      },
      "source": [
        "## Regularization\n",
        "\n",
        "### Label Smoothing\n",
        "\n",
        "During training, we employed label smoothing of value\n",
        "$\\epsilon_{ls}=0.1$ [(cite)](https://arxiv.org/abs/1512.00567).\n",
        "This hurts perplexity, as the model learns to be more unsure, but\n",
        "improves accuracy and BLEU score."
      ]
    },
    {
      "cell_type": "markdown",
      "id": "32b5b708",
      "metadata": {
        "id": "32b5b708"
      },
      "source": [
        "\n",
        "> We implement label smoothing using the KL div loss. Instead of\n",
        "> using a one-hot target distribution, we create a distribution that\n",
        "> has `confidence` of the correct word and the rest of the\n",
        "> `smoothing` mass distributed throughout the vocabulary."
      ]
    },
    {
      "cell_type": "code",
      "execution_count": null,
      "id": "77d96f50",
      "metadata": {
        "execution": {
          "iopub.execute_input": "2022-05-02T01:25:22.858827Z",
          "iopub.status.busy": "2022-05-02T01:25:22.858459Z",
          "iopub.status.idle": "2022-05-02T01:25:22.860907Z",
          "shell.execute_reply": "2022-05-02T01:25:22.861184Z"
        },
        "id": "77d96f50",
        "lines_to_next_cell": 2
      },
      "outputs": [],
      "source": [
        "class LabelSmoothing(nn.Module):\n",
        "    \"Implement label smoothing.\"\n",
        "\n",
        "    def __init__(self, size, padding_idx, smoothing=0.0):\n",
        "        super(LabelSmoothing, self).__init__()\n",
        "        self.criterion = nn.KLDivLoss(reduction=\"sum\")\n",
        "        self.padding_idx = padding_idx\n",
        "        self.confidence = 1.0 - smoothing\n",
        "        self.smoothing = smoothing\n",
        "        self.size = size\n",
        "        self.true_dist = None\n",
        "\n",
        "    def forward(self, x, target):\n",
        "        assert x.size(1) == self.size\n",
        "        true_dist = x.data.clone()\n",
        "        true_dist.fill_(self.smoothing / (self.size - 2))\n",
        "        true_dist.scatter_(1, target.data.unsqueeze(1), self.confidence)\n",
        "        true_dist[:, self.padding_idx] = 0\n",
        "        mask = torch.nonzero(target.data == self.padding_idx)\n",
        "        if mask.dim() > 0:\n",
        "            true_dist.index_fill_(0, mask.squeeze(), 0.0)\n",
        "        self.true_dist = true_dist\n",
        "        return self.criterion(x, true_dist.clone().detach())"
      ]
    },
    {
      "cell_type": "markdown",
      "id": "cd102b03",
      "metadata": {
        "id": "cd102b03"
      },
      "source": [
        "\n",
        "> Here we can see an example of how the mass is distributed to the\n",
        "> words based on confidence."
      ]
    },
    {
      "cell_type": "code",
      "execution_count": null,
      "id": "a165ed13",
      "metadata": {
        "execution": {
          "iopub.execute_input": "2022-05-02T01:25:22.872854Z",
          "iopub.status.busy": "2022-05-02T01:25:22.872373Z",
          "iopub.status.idle": "2022-05-02T01:25:23.190398Z",
          "shell.execute_reply": "2022-05-02T01:25:23.190149Z"
        },
        "id": "a165ed13",
        "lines_to_next_cell": 2
      },
      "outputs": [],
      "source": [
        "# Example of label smoothing.\n",
        "\n",
        "\n",
        "def example_label_smoothing():\n",
        "    crit = LabelSmoothing(5, 0, 0.4)\n",
        "    predict = torch.FloatTensor(\n",
        "        [\n",
        "            [0, 0.2, 0.7, 0.1, 0],\n",
        "            [0, 0.2, 0.7, 0.1, 0],\n",
        "            [0, 0.2, 0.7, 0.1, 0],\n",
        "            [0, 0.2, 0.7, 0.1, 0],\n",
        "            [0, 0.2, 0.7, 0.1, 0],\n",
        "        ]\n",
        "    )\n",
        "    crit(x=predict.log(), target=torch.LongTensor([2, 1, 0, 3, 3]))\n",
        "    LS_data = pd.concat(\n",
        "        [\n",
        "            pd.DataFrame(\n",
        "                {\n",
        "                    \"target distribution\": crit.true_dist[x, y].flatten(),\n",
        "                    \"columns\": y,\n",
        "                    \"rows\": x,\n",
        "                }\n",
        "            )\n",
        "            for y in range(5)\n",
        "            for x in range(5)\n",
        "        ]\n",
        "    )\n",
        "\n",
        "    return (\n",
        "        alt.Chart(LS_data)\n",
        "        .mark_rect(color=\"Blue\", opacity=1)\n",
        "        .properties(height=200, width=200)\n",
        "        .encode(\n",
        "            alt.X(\"columns:O\", title=None),\n",
        "            alt.Y(\"rows:O\", title=None),\n",
        "            alt.Color(\n",
        "                \"target distribution:Q\", scale=alt.Scale(scheme=\"viridis\")\n",
        "            ),\n",
        "        )\n",
        "        .interactive()\n",
        "    )\n",
        "\n",
        "\n",
        "show_example(example_label_smoothing)"
      ]
    },
    {
      "cell_type": "markdown",
      "id": "dd4ba439",
      "metadata": {
        "id": "dd4ba439"
      },
      "source": [
        "\n",
        "> Label smoothing actually starts to penalize the model if it gets\n",
        "> very confident about a given choice."
      ]
    },
    {
      "cell_type": "code",
      "execution_count": null,
      "id": "7f4936fa",
      "metadata": {
        "execution": {
          "iopub.execute_input": "2022-05-02T01:25:23.195609Z",
          "iopub.status.busy": "2022-05-02T01:25:23.195284Z",
          "iopub.status.idle": "2022-05-02T01:25:23.450431Z",
          "shell.execute_reply": "2022-05-02T01:25:23.451135Z"
        },
        "id": "7f4936fa"
      },
      "outputs": [],
      "source": [
        "\n",
        "\n",
        "def loss(x, crit):\n",
        "    d = x + 3 * 1\n",
        "    predict = torch.FloatTensor([[0, x / d, 1 / d, 1 / d, 1 / d]])\n",
        "    return crit(predict.log(), torch.LongTensor([1])).data\n",
        "\n",
        "\n",
        "def penalization_visualization():\n",
        "    crit = LabelSmoothing(5, 0, 0.1)\n",
        "    loss_data = pd.DataFrame(\n",
        "        {\n",
        "            \"Loss\": [loss(x, crit) for x in range(1, 100)],\n",
        "            \"Steps\": list(range(99)),\n",
        "        }\n",
        "    ).astype(\"float\")\n",
        "\n",
        "    return (\n",
        "        alt.Chart(loss_data)\n",
        "        .mark_line()\n",
        "        .properties(width=350)\n",
        "        .encode(\n",
        "            x=\"Steps\",\n",
        "            y=\"Loss\",\n",
        "        )\n",
        "        .interactive()\n",
        "    )\n",
        "\n",
        "\n",
        "show_example(penalization_visualization)"
      ]
    },
    {
      "cell_type": "markdown",
      "id": "9eb37970",
      "metadata": {
        "id": "9eb37970"
      },
      "source": [
        "# A First  Example\n",
        "\n",
        "> We can begin by trying out a simple copy-task. Given a random set\n",
        "> of input symbols from a small vocabulary, the goal is to generate\n",
        "> back those same symbols."
      ]
    },
    {
      "cell_type": "markdown",
      "id": "18ee6655",
      "metadata": {
        "id": "18ee6655"
      },
      "source": [
        "## Synthetic Data"
      ]
    },
    {
      "cell_type": "code",
      "execution_count": null,
      "id": "334bdb3f",
      "metadata": {
        "execution": {
          "iopub.execute_input": "2022-05-02T01:25:23.456326Z",
          "iopub.status.busy": "2022-05-02T01:25:23.455411Z",
          "iopub.status.idle": "2022-05-02T01:25:23.457254Z",
          "shell.execute_reply": "2022-05-02T01:25:23.457943Z"
        },
        "id": "334bdb3f"
      },
      "outputs": [],
      "source": [
        "def data_gen(V, batch_size, nbatches):\n",
        "    \"Generate random data for a src-tgt copy task.\"\n",
        "    for i in range(nbatches):\n",
        "        data = torch.randint(1, V, size=(batch_size, 10))\n",
        "        data[:, 0] = 1\n",
        "        src = data.requires_grad_(False).clone().detach()\n",
        "        tgt = data.requires_grad_(False).clone().detach()\n",
        "        yield Batch(src, tgt, 0)"
      ]
    },
    {
      "cell_type": "markdown",
      "id": "33fe4433",
      "metadata": {
        "id": "33fe4433"
      },
      "source": [
        "## Loss Computation"
      ]
    },
    {
      "cell_type": "code",
      "execution_count": null,
      "id": "4a88cbe5",
      "metadata": {
        "execution": {
          "iopub.execute_input": "2022-05-02T01:25:23.462842Z",
          "iopub.status.busy": "2022-05-02T01:25:23.461999Z",
          "iopub.status.idle": "2022-05-02T01:25:23.464005Z",
          "shell.execute_reply": "2022-05-02T01:25:23.464702Z"
        },
        "id": "4a88cbe5"
      },
      "outputs": [],
      "source": [
        "class SimpleLossCompute:\n",
        "    \"A simple loss compute and train function.\"\n",
        "\n",
        "    def __init__(self, generator, criterion):\n",
        "        self.generator = generator\n",
        "        self.criterion = criterion\n",
        "\n",
        "    def __call__(self, x, y, norm):\n",
        "        x = self.generator(x)\n",
        "        sloss = (\n",
        "            self.criterion(\n",
        "                x.contiguous().view(-1, x.size(-1)), y.contiguous().view(-1)\n",
        "            )\n",
        "            / norm\n",
        "        )\n",
        "        return sloss.data * norm, sloss"
      ]
    },
    {
      "cell_type": "markdown",
      "id": "00b7bdc2",
      "metadata": {
        "id": "00b7bdc2"
      },
      "source": [
        "## Greedy Decoding"
      ]
    },
    {
      "cell_type": "markdown",
      "id": "958119b5",
      "metadata": {
        "id": "958119b5",
        "lines_to_next_cell": 0,
        "tags": []
      },
      "source": [
        "> This code predicts a translation using greedy decoding for simplicity."
      ]
    },
    {
      "cell_type": "code",
      "execution_count": null,
      "id": "8426fe69",
      "metadata": {
        "execution": {
          "iopub.execute_input": "2022-05-02T01:25:23.470843Z",
          "iopub.status.busy": "2022-05-02T01:25:23.469910Z",
          "iopub.status.idle": "2022-05-02T01:25:23.471795Z",
          "shell.execute_reply": "2022-05-02T01:25:23.472524Z"
        },
        "id": "8426fe69",
        "lines_to_next_cell": 2
      },
      "outputs": [],
      "source": [
        "def greedy_decode(model, src, src_mask, max_len, start_symbol):\n",
        "    memory = model.encode(src, src_mask)\n",
        "    ys = torch.zeros(1, 1).fill_(start_symbol).type_as(src.data)\n",
        "    for i in range(max_len - 1):\n",
        "        out = model.decode(\n",
        "            memory, src_mask, ys, subsequent_mask(ys.size(1)).type_as(src.data)\n",
        "        )\n",
        "        prob = model.generator(out[:, -1])\n",
        "        _, next_word = torch.max(prob, dim=1)\n",
        "        next_word = next_word.data[0]\n",
        "        ys = torch.cat(\n",
        "            [ys, torch.zeros(1, 1).type_as(src.data).fill_(next_word)], dim=1\n",
        "        )\n",
        "    return ys"
      ]
    },
    {
      "cell_type": "code",
      "execution_count": null,
      "id": "6a93be76",
      "metadata": {
        "execution": {
          "iopub.execute_input": "2022-05-02T01:25:23.481831Z",
          "iopub.status.busy": "2022-05-02T01:25:23.480882Z",
          "iopub.status.idle": "2022-05-02T01:25:23.482798Z",
          "shell.execute_reply": "2022-05-02T01:25:23.483742Z"
        },
        "id": "6a93be76",
        "lines_to_next_cell": 2,
        "tags": []
      },
      "outputs": [],
      "source": [
        "# Train the simple copy task.\n",
        "\n",
        "\n",
        "def example_simple_model():\n",
        "    V = 11\n",
        "    criterion = LabelSmoothing(size=V, padding_idx=0, smoothing=0.0)\n",
        "    model = make_model(V, V, N=2)\n",
        "\n",
        "    optimizer = torch.optim.Adam(\n",
        "        model.parameters(), lr=0.5, betas=(0.9, 0.98), eps=1e-9\n",
        "    )\n",
        "    lr_scheduler = LambdaLR(\n",
        "        optimizer=optimizer,\n",
        "        lr_lambda=lambda step: rate(\n",
        "            step, model_size=model.src_embed[0].d_model, factor=1.0, warmup=400\n",
        "        ),\n",
        "    )\n",
        "\n",
        "    batch_size = 80\n",
        "    for epoch in range(20):\n",
        "        model.train()\n",
        "        run_epoch(\n",
        "            data_gen(V, batch_size, 20),\n",
        "            model,\n",
        "            SimpleLossCompute(model.generator, criterion),\n",
        "            optimizer,\n",
        "            lr_scheduler,\n",
        "            mode=\"train\",\n",
        "        )\n",
        "        model.eval()\n",
        "        run_epoch(\n",
        "            data_gen(V, batch_size, 5),\n",
        "            model,\n",
        "            SimpleLossCompute(model.generator, criterion),\n",
        "            DummyOptimizer(),\n",
        "            DummyScheduler(),\n",
        "            mode=\"eval\",\n",
        "        )[0]\n",
        "\n",
        "    model.eval()\n",
        "    src = torch.LongTensor([[0, 1, 2, 3, 4, 5, 6, 7, 8, 9]])\n",
        "    max_len = src.shape[1]\n",
        "    src_mask = torch.ones(1, 1, max_len)\n",
        "    print(greedy_decode(model, src, src_mask, max_len=max_len, start_symbol=0))\n",
        "\n",
        "\n",
        "# execute_example(example_simple_model)"
      ]
    },
    {
      "cell_type": "markdown",
      "id": "9a439ef0",
      "metadata": {
        "id": "9a439ef0"
      },
      "source": [
        "# Part 3: A Real World Example\n",
        "\n",
        "> Now we consider a real-world example using the Multi30k\n",
        "> German-English Translation task. This task is much smaller than\n",
        "> the WMT task considered in the paper, but it illustrates the whole\n",
        "> system. We also show how to use multi-gpu processing to make it\n",
        "> really fast."
      ]
    },
    {
      "cell_type": "markdown",
      "id": "1ceb7001",
      "metadata": {
        "id": "1ceb7001",
        "tags": []
      },
      "source": [
        "## Data Loading\n",
        "\n",
        "> We will load the dataset using torchtext and spacy for\n",
        "> tokenization."
      ]
    },
    {
      "cell_type": "code",
      "execution_count": null,
      "id": "9c3a83e3",
      "metadata": {
        "execution": {
          "iopub.execute_input": "2022-05-02T01:25:23.491667Z",
          "iopub.status.busy": "2022-05-02T01:25:23.490728Z",
          "iopub.status.idle": "2022-05-02T01:25:23.492689Z",
          "shell.execute_reply": "2022-05-02T01:25:23.493407Z"
        },
        "id": "9c3a83e3"
      },
      "outputs": [],
      "source": [
        "# Load spacy tokenizer models, download them if they haven't been\n",
        "# downloaded already\n",
        "\n",
        "\n",
        "def load_tokenizers():\n",
        "\n",
        "    try:\n",
        "        spacy_de = spacy.load(\"de_core_news_sm\")\n",
        "    except IOError:\n",
        "        os.system(\"python -m spacy download de_core_news_sm\")\n",
        "        spacy_de = spacy.load(\"de_core_news_sm\")\n",
        "\n",
        "    try:\n",
        "        spacy_en = spacy.load(\"en_core_web_sm\")\n",
        "    except IOError:\n",
        "        os.system(\"python -m spacy download en_core_web_sm\")\n",
        "        spacy_en = spacy.load(\"en_core_web_sm\")\n",
        "\n",
        "    return spacy_de, spacy_en"
      ]
    },
    {
      "cell_type": "code",
      "execution_count": null,
      "id": "6092be4f",
      "metadata": {
        "execution": {
          "iopub.execute_input": "2022-05-02T01:25:23.500603Z",
          "iopub.status.busy": "2022-05-02T01:25:23.499698Z",
          "iopub.status.idle": "2022-05-02T01:25:23.502449Z",
          "shell.execute_reply": "2022-05-02T01:25:23.501724Z"
        },
        "id": "6092be4f",
        "lines_to_next_cell": 2,
        "tags": []
      },
      "outputs": [],
      "source": [
        "def tokenize(text, tokenizer):\n",
        "    return [tok.text for tok in tokenizer.tokenizer(text)]\n",
        "\n",
        "\n",
        "def yield_tokens(data_iter, tokenizer, index):\n",
        "    for from_to_tuple in data_iter:\n",
        "        yield tokenizer(from_to_tuple[index])"
      ]
    },
    {
      "cell_type": "code",
      "execution_count": null,
      "id": "64878fb2",
      "metadata": {
        "execution": {
          "iopub.execute_input": "2022-05-02T01:25:23.516475Z",
          "iopub.status.busy": "2022-05-02T01:25:23.515578Z",
          "iopub.status.idle": "2022-05-02T01:25:25.130885Z",
          "shell.execute_reply": "2022-05-02T01:25:25.130120Z"
        },
        "id": "64878fb2",
        "tags": []
      },
      "outputs": [],
      "source": [
        "\n",
        "\n",
        "def build_vocabulary(spacy_de, spacy_en):\n",
        "    def tokenize_de(text):\n",
        "        return tokenize(text, spacy_de)\n",
        "\n",
        "    def tokenize_en(text):\n",
        "        return tokenize(text, spacy_en)\n",
        "\n",
        "    print(\"Building German Vocabulary ...\")\n",
        "    train, val, test = datasets.Multi30k(language_pair=(\"de\", \"en\"))\n",
        "    vocab_src = build_vocab_from_iterator(\n",
        "        yield_tokens(train + val + test, tokenize_de, index=0),\n",
        "        min_freq=2,\n",
        "        specials=[\"<s>\", \"</s>\", \"<blank>\", \"<unk>\"],\n",
        "    )\n",
        "\n",
        "    print(\"Building English Vocabulary ...\")\n",
        "    train, val, test = datasets.Multi30k(language_pair=(\"de\", \"en\"))\n",
        "    vocab_tgt = build_vocab_from_iterator(\n",
        "        yield_tokens(train + val + test, tokenize_en, index=1),\n",
        "        min_freq=2,\n",
        "        specials=[\"<s>\", \"</s>\", \"<blank>\", \"<unk>\"],\n",
        "    )\n",
        "\n",
        "    vocab_src.set_default_index(vocab_src[\"<unk>\"])\n",
        "    vocab_tgt.set_default_index(vocab_tgt[\"<unk>\"])\n",
        "\n",
        "    return vocab_src, vocab_tgt\n",
        "\n",
        "\n",
        "def load_vocab(spacy_de, spacy_en):\n",
        "    if not exists(\"vocab.pt\"):\n",
        "        vocab_src, vocab_tgt = build_vocabulary(spacy_de, spacy_en)\n",
        "        torch.save((vocab_src, vocab_tgt), \"vocab.pt\")\n",
        "    else:\n",
        "        vocab_src, vocab_tgt = torch.load(\"vocab.pt\")\n",
        "    print(\"Finished.\\nVocabulary sizes:\")\n",
        "    print(len(vocab_src))\n",
        "    print(len(vocab_tgt))\n",
        "    return vocab_src, vocab_tgt\n",
        "\n",
        "\n",
        "if is_interactive_notebook():\n",
        "    # global variables used later in the script\n",
        "    spacy_de, spacy_en = show_example(load_tokenizers)\n",
        "    vocab_src, vocab_tgt = show_example(load_vocab, args=[spacy_de, spacy_en])"
      ]
    },
    {
      "cell_type": "markdown",
      "id": "8aa07c06",
      "metadata": {
        "id": "8aa07c06"
      },
      "source": [
        "\n",
        "> Batching matters a ton for speed. We want to have very evenly\n",
        "> divided batches, with absolutely minimal padding. To do this we\n",
        "> have to hack a bit around the default torchtext batching. This\n",
        "> code patches their default batching to make sure we search over\n",
        "> enough sentences to find tight batches."
      ]
    },
    {
      "cell_type": "markdown",
      "id": "f57752f8",
      "metadata": {
        "incorrectly_encoded_metadata": "id=\"kDEj-hCgokC-\" tags=[] jp-MarkdownHeadingCollapsed=true",
        "id": "f57752f8"
      },
      "source": [
        "## Iterators"
      ]
    },
    {
      "cell_type": "code",
      "execution_count": null,
      "id": "33350048",
      "metadata": {
        "execution": {
          "iopub.execute_input": "2022-05-02T01:25:25.144310Z",
          "iopub.status.busy": "2022-05-02T01:25:25.143931Z",
          "iopub.status.idle": "2022-05-02T01:25:25.146354Z",
          "shell.execute_reply": "2022-05-02T01:25:25.146629Z"
        },
        "id": "33350048",
        "tags": []
      },
      "outputs": [],
      "source": [
        "def collate_batch(\n",
        "    batch,\n",
        "    src_pipeline,\n",
        "    tgt_pipeline,\n",
        "    src_vocab,\n",
        "    tgt_vocab,\n",
        "    device,\n",
        "    max_padding=128,\n",
        "    pad_id=2,\n",
        "):\n",
        "    bs_id = torch.tensor([0], device=device)  # <s> token id\n",
        "    eos_id = torch.tensor([1], device=device)  # </s> token id\n",
        "    src_list, tgt_list = [], []\n",
        "    for (_src, _tgt) in batch:\n",
        "        processed_src = torch.cat(\n",
        "            [\n",
        "                bs_id,\n",
        "                torch.tensor(\n",
        "                    src_vocab(src_pipeline(_src)),\n",
        "                    dtype=torch.int64,\n",
        "                    device=device,\n",
        "                ),\n",
        "                eos_id,\n",
        "            ],\n",
        "            0,\n",
        "        )\n",
        "        processed_tgt = torch.cat(\n",
        "            [\n",
        "                bs_id,\n",
        "                torch.tensor(\n",
        "                    tgt_vocab(tgt_pipeline(_tgt)),\n",
        "                    dtype=torch.int64,\n",
        "                    device=device,\n",
        "                ),\n",
        "                eos_id,\n",
        "            ],\n",
        "            0,\n",
        "        )\n",
        "        src_list.append(\n",
        "            # warning - overwrites values for negative values of padding - len\n",
        "            pad(\n",
        "                processed_src,\n",
        "                (\n",
        "                    0,\n",
        "                    max_padding - len(processed_src),\n",
        "                ),\n",
        "                value=pad_id,\n",
        "            )\n",
        "        )\n",
        "        tgt_list.append(\n",
        "            pad(\n",
        "                processed_tgt,\n",
        "                (0, max_padding - len(processed_tgt)),\n",
        "                value=pad_id,\n",
        "            )\n",
        "        )\n",
        "\n",
        "    src = torch.stack(src_list)\n",
        "    tgt = torch.stack(tgt_list)\n",
        "    return (src, tgt)"
      ]
    },
    {
      "cell_type": "code",
      "execution_count": null,
      "id": "3d94df2f",
      "metadata": {
        "execution": {
          "iopub.execute_input": "2022-05-02T01:25:25.158739Z",
          "iopub.status.busy": "2022-05-02T01:25:25.158133Z",
          "iopub.status.idle": "2022-05-02T01:25:25.160905Z",
          "shell.execute_reply": "2022-05-02T01:25:25.160371Z"
        },
        "id": "3d94df2f",
        "tags": []
      },
      "outputs": [],
      "source": [
        "def create_dataloaders(\n",
        "    device,\n",
        "    vocab_src,\n",
        "    vocab_tgt,\n",
        "    spacy_de,\n",
        "    spacy_en,\n",
        "    batch_size=12000,\n",
        "    max_padding=128,\n",
        "    is_distributed=True,\n",
        "):\n",
        "    # def create_dataloaders(batch_size=12000):\n",
        "    def tokenize_de(text):\n",
        "        return tokenize(text, spacy_de)\n",
        "\n",
        "    def tokenize_en(text):\n",
        "        return tokenize(text, spacy_en)\n",
        "\n",
        "    def collate_fn(batch):\n",
        "        return collate_batch(\n",
        "            batch,\n",
        "            tokenize_de,\n",
        "            tokenize_en,\n",
        "            vocab_src,\n",
        "            vocab_tgt,\n",
        "            device,\n",
        "            max_padding=max_padding,\n",
        "            pad_id=vocab_src.get_stoi()[\"<blank>\"],\n",
        "        )\n",
        "\n",
        "    train_iter, valid_iter, test_iter = datasets.Multi30k(\n",
        "        language_pair=(\"de\", \"en\")\n",
        "    )\n",
        "\n",
        "    train_iter_map = to_map_style_dataset(\n",
        "        train_iter\n",
        "    )  # DistributedSampler needs a dataset len()\n",
        "    train_sampler = (\n",
        "        DistributedSampler(train_iter_map) if is_distributed else None\n",
        "    )\n",
        "    valid_iter_map = to_map_style_dataset(valid_iter)\n",
        "    valid_sampler = (\n",
        "        DistributedSampler(valid_iter_map) if is_distributed else None\n",
        "    )\n",
        "\n",
        "    train_dataloader = DataLoader(\n",
        "        train_iter_map,\n",
        "        batch_size=batch_size,\n",
        "        shuffle=(train_sampler is None),\n",
        "        sampler=train_sampler,\n",
        "        collate_fn=collate_fn,\n",
        "    )\n",
        "    valid_dataloader = DataLoader(\n",
        "        valid_iter_map,\n",
        "        batch_size=batch_size,\n",
        "        shuffle=(valid_sampler is None),\n",
        "        sampler=valid_sampler,\n",
        "        collate_fn=collate_fn,\n",
        "    )\n",
        "    return train_dataloader, valid_dataloader"
      ]
    },
    {
      "cell_type": "markdown",
      "id": "852a5240",
      "metadata": {
        "id": "852a5240"
      },
      "source": [
        "## Training the System"
      ]
    },
    {
      "cell_type": "code",
      "execution_count": null,
      "id": "1b763750",
      "metadata": {
        "execution": {
          "iopub.execute_input": "2022-05-02T01:25:25.181295Z",
          "iopub.status.busy": "2022-05-02T01:25:25.180613Z",
          "iopub.status.idle": "2022-05-02T01:25:25.183519Z",
          "shell.execute_reply": "2022-05-02T01:25:25.183983Z"
        },
        "id": "1b763750"
      },
      "outputs": [],
      "source": [
        "def train_worker(\n",
        "    gpu,\n",
        "    ngpus_per_node,\n",
        "    vocab_src,\n",
        "    vocab_tgt,\n",
        "    spacy_de,\n",
        "    spacy_en,\n",
        "    config,\n",
        "    is_distributed=False,\n",
        "):\n",
        "    print(f\"Train worker process using GPU: {gpu} for training\", flush=True)\n",
        "    torch.cuda.set_device(gpu)\n",
        "\n",
        "    pad_idx = vocab_tgt[\"<blank>\"]\n",
        "    d_model = 512\n",
        "    model = make_model(len(vocab_src), len(vocab_tgt), N=6)\n",
        "    model.cuda(gpu)\n",
        "    module = model\n",
        "    is_main_process = True\n",
        "    if is_distributed:\n",
        "        dist.init_process_group(\n",
        "            \"nccl\", init_method=\"env://\", rank=gpu, world_size=ngpus_per_node\n",
        "        )\n",
        "        model = DDP(model, device_ids=[gpu])\n",
        "        module = model.module\n",
        "        is_main_process = gpu == 0\n",
        "\n",
        "    criterion = LabelSmoothing(\n",
        "        size=len(vocab_tgt), padding_idx=pad_idx, smoothing=0.1\n",
        "    )\n",
        "    criterion.cuda(gpu)\n",
        "\n",
        "    train_dataloader, valid_dataloader = create_dataloaders(\n",
        "        gpu,\n",
        "        vocab_src,\n",
        "        vocab_tgt,\n",
        "        spacy_de,\n",
        "        spacy_en,\n",
        "        batch_size=config[\"batch_size\"] // ngpus_per_node,\n",
        "        max_padding=config[\"max_padding\"],\n",
        "        is_distributed=is_distributed,\n",
        "    )\n",
        "\n",
        "    optimizer = torch.optim.Adam(\n",
        "        model.parameters(), lr=config[\"base_lr\"], betas=(0.9, 0.98), eps=1e-9\n",
        "    )\n",
        "    lr_scheduler = LambdaLR(\n",
        "        optimizer=optimizer,\n",
        "        lr_lambda=lambda step: rate(\n",
        "            step, d_model, factor=1, warmup=config[\"warmup\"]\n",
        "        ),\n",
        "    )\n",
        "    train_state = TrainState()\n",
        "\n",
        "    for epoch in range(config[\"num_epochs\"]):\n",
        "        if is_distributed:\n",
        "            train_dataloader.sampler.set_epoch(epoch)\n",
        "            valid_dataloader.sampler.set_epoch(epoch)\n",
        "\n",
        "        model.train()\n",
        "        print(f\"[GPU{gpu}] Epoch {epoch} Training ====\", flush=True)\n",
        "        _, train_state = run_epoch(\n",
        "            (Batch(b[0], b[1], pad_idx) for b in train_dataloader),\n",
        "            model,\n",
        "            SimpleLossCompute(module.generator, criterion),\n",
        "            optimizer,\n",
        "            lr_scheduler,\n",
        "            mode=\"train+log\",\n",
        "            accum_iter=config[\"accum_iter\"],\n",
        "            train_state=train_state,\n",
        "        )\n",
        "\n",
        "        GPUtil.showUtilization()\n",
        "        if is_main_process:\n",
        "            file_path = \"%s%.2d.pt\" % (config[\"file_prefix\"], epoch)\n",
        "            torch.save(module.state_dict(), file_path)\n",
        "        torch.cuda.empty_cache()\n",
        "\n",
        "        print(f\"[GPU{gpu}] Epoch {epoch} Validation ====\", flush=True)\n",
        "        model.eval()\n",
        "        sloss = run_epoch(\n",
        "            (Batch(b[0], b[1], pad_idx) for b in valid_dataloader),\n",
        "            model,\n",
        "            SimpleLossCompute(module.generator, criterion),\n",
        "            DummyOptimizer(),\n",
        "            DummyScheduler(),\n",
        "            mode=\"eval\",\n",
        "        )\n",
        "        print(sloss)\n",
        "        torch.cuda.empty_cache()\n",
        "\n",
        "    if is_main_process:\n",
        "        file_path = \"%sfinal.pt\" % config[\"file_prefix\"]\n",
        "        torch.save(module.state_dict(), file_path)"
      ]
    },
    {
      "cell_type": "code",
      "execution_count": null,
      "id": "e81a913b",
      "metadata": {
        "execution": {
          "iopub.execute_input": "2022-05-02T01:25:25.195835Z",
          "iopub.status.busy": "2022-05-02T01:25:25.194849Z",
          "iopub.status.idle": "2022-05-02T01:25:28.698817Z",
          "shell.execute_reply": "2022-05-02T01:25:28.699555Z"
        },
        "lines_to_next_cell": 2,
        "tags": [],
        "id": "e81a913b"
      },
      "outputs": [],
      "source": [
        "def train_distributed_model(vocab_src, vocab_tgt, spacy_de, spacy_en, config):\n",
        "    from the_annotated_transformer import train_worker\n",
        "\n",
        "    ngpus = torch.cuda.device_count()\n",
        "    os.environ[\"MASTER_ADDR\"] = \"localhost\"\n",
        "    os.environ[\"MASTER_PORT\"] = \"12356\"\n",
        "    print(f\"Number of GPUs detected: {ngpus}\")\n",
        "    print(\"Spawning training processes ...\")\n",
        "    mp.spawn(\n",
        "        train_worker,\n",
        "        nprocs=ngpus,\n",
        "        args=(ngpus, vocab_src, vocab_tgt, spacy_de, spacy_en, config, True),\n",
        "    )\n",
        "\n",
        "\n",
        "def train_model(vocab_src, vocab_tgt, spacy_de, spacy_en, config):\n",
        "    if config[\"distributed\"]:\n",
        "        train_distributed_model(\n",
        "            vocab_src, vocab_tgt, spacy_de, spacy_en, config\n",
        "        )\n",
        "    else:\n",
        "        train_worker(\n",
        "            0, 1, vocab_src, vocab_tgt, spacy_de, spacy_en, config, False\n",
        "        )\n",
        "\n",
        "\n",
        "def load_trained_model():\n",
        "    config = {\n",
        "        \"batch_size\": 32,\n",
        "        \"distributed\": False,\n",
        "        \"num_epochs\": 8,\n",
        "        \"accum_iter\": 10,\n",
        "        \"base_lr\": 1.0,\n",
        "        \"max_padding\": 72,\n",
        "        \"warmup\": 3000,\n",
        "        \"file_prefix\": \"multi30k_model_\",\n",
        "    }\n",
        "    model_path = \"multi30k_model_final.pt\"\n",
        "    if not exists(model_path):\n",
        "        train_model(vocab_src, vocab_tgt, spacy_de, spacy_en, config)\n",
        "\n",
        "    model = make_model(len(vocab_src), len(vocab_tgt), N=6)\n",
        "    model.load_state_dict(torch.load(\"multi30k_model_final.pt\"))\n",
        "    return model\n",
        "\n",
        "\n",
        "if is_interactive_notebook():\n",
        "    model = load_trained_model()"
      ]
    },
    {
      "cell_type": "markdown",
      "id": "89c1a1dd",
      "metadata": {
        "id": "89c1a1dd"
      },
      "source": [
        "\n",
        "> Once trained we can decode the model to produce a set of\n",
        "> translations. Here we simply translate the first sentence in the\n",
        "> validation set. This dataset is pretty small so the translations\n",
        "> with greedy search are reasonably accurate."
      ]
    },
    {
      "cell_type": "markdown",
      "id": "678f1a78",
      "metadata": {
        "id": "678f1a78"
      },
      "source": [
        "# Additional Components: BPE, Search, Averaging"
      ]
    },
    {
      "cell_type": "markdown",
      "id": "907b7d56",
      "metadata": {
        "id": "907b7d56"
      },
      "source": [
        "\n",
        "> So this mostly covers the transformer model itself. There are four\n",
        "> aspects that we didn't cover explicitly. We also have all these\n",
        "> additional features implemented in\n",
        "> [OpenNMT-py](https://github.com/opennmt/opennmt-py).\n",
        "\n"
      ]
    },
    {
      "cell_type": "markdown",
      "id": "34851e8d",
      "metadata": {
        "id": "34851e8d"
      },
      "source": [
        "\n",
        "> 1) BPE/ Word-piece: We can use a library to first preprocess the\n",
        "> data into subword units. See Rico Sennrich's\n",
        "> [subword-nmt](https://github.com/rsennrich/subword-nmt)\n",
        "> implementation. These models will transform the training data to\n",
        "> look like this:"
      ]
    },
    {
      "cell_type": "markdown",
      "id": "ba54e3b3",
      "metadata": {
        "id": "ba54e3b3"
      },
      "source": [
        "▁Die ▁Protokoll datei ▁kann ▁ heimlich ▁per ▁E - Mail ▁oder ▁FTP\n",
        "▁an ▁einen ▁bestimmte n ▁Empfänger ▁gesendet ▁werden ."
      ]
    },
    {
      "cell_type": "markdown",
      "id": "5a547f60",
      "metadata": {
        "id": "5a547f60"
      },
      "source": [
        "\n",
        "> 2) Shared Embeddings: When using BPE with shared vocabulary we can\n",
        "> share the same weight vectors between the source / target /\n",
        "> generator. See the [(cite)](https://arxiv.org/abs/1608.05859) for\n",
        "> details. To add this to the model simply do this:"
      ]
    },
    {
      "cell_type": "code",
      "execution_count": null,
      "id": "ccf619cc",
      "metadata": {
        "execution": {
          "iopub.execute_input": "2022-05-02T01:25:28.707177Z",
          "iopub.status.busy": "2022-05-02T01:25:28.706316Z",
          "iopub.status.idle": "2022-05-02T01:25:28.710001Z",
          "shell.execute_reply": "2022-05-02T01:25:28.710283Z"
        },
        "id": "ccf619cc",
        "tags": []
      },
      "outputs": [],
      "source": [
        "if False:\n",
        "    model.src_embed[0].lut.weight = model.tgt_embeddings[0].lut.weight\n",
        "    model.generator.lut.weight = model.tgt_embed[0].lut.weight"
      ]
    },
    {
      "cell_type": "markdown",
      "id": "925a33d8",
      "metadata": {
        "id": "925a33d8"
      },
      "source": [
        "\n",
        "> 3) Beam Search: This is a bit too complicated to cover here. See the\n",
        "> [OpenNMT-py](https://github.com/OpenNMT/OpenNMT-py/)\n",
        "> for a pytorch implementation.\n",
        ">\n"
      ]
    },
    {
      "cell_type": "markdown",
      "id": "ca2ec347",
      "metadata": {
        "id": "ca2ec347"
      },
      "source": [
        "\n",
        "> 4) Model Averaging: The paper averages the last k checkpoints to\n",
        "> create an ensembling effect. We can do this after the fact if we\n",
        "> have a bunch of models:"
      ]
    },
    {
      "cell_type": "code",
      "execution_count": null,
      "id": "7733ce32",
      "metadata": {
        "execution": {
          "iopub.execute_input": "2022-05-02T01:25:28.716071Z",
          "iopub.status.busy": "2022-05-02T01:25:28.715714Z",
          "iopub.status.idle": "2022-05-02T01:25:28.718389Z",
          "shell.execute_reply": "2022-05-02T01:25:28.717999Z"
        },
        "id": "7733ce32",
        "lines_to_next_cell": 2
      },
      "outputs": [],
      "source": [
        "def average(model, models):\n",
        "    \"Average models into model\"\n",
        "    for ps in zip(*[m.params() for m in [model] + models]):\n",
        "        ps[0].copy_(torch.sum(*ps[1:]) / len(ps[1:]))"
      ]
    },
    {
      "cell_type": "markdown",
      "id": "34f23a5f",
      "metadata": {
        "id": "34f23a5f"
      },
      "source": [
        "# Results\n",
        "\n",
        "On the WMT 2014 English-to-German translation task, the big\n",
        "transformer model (Transformer (big) in Table 2) outperforms the\n",
        "best previously reported models (including ensembles) by more than\n",
        "2.0 BLEU, establishing a new state-of-the-art BLEU score of\n",
        "28.4. The configuration of this model is listed in the bottom line\n",
        "of Table 3. Training took 3.5 days on 8 P100 GPUs. Even our base\n",
        "model surpasses all previously published models and ensembles, at a\n",
        "fraction of the training cost of any of the competitive models.\n",
        "\n",
        "On the WMT 2014 English-to-French translation task, our big model\n",
        "achieves a BLEU score of 41.0, outperforming all of the previously\n",
        "published single models, at less than 1/4 the training cost of the\n",
        "previous state-of-the-art model. The Transformer (big) model trained\n",
        "for English-to-French used dropout rate Pdrop = 0.1, instead of 0.3.\n"
      ]
    },
    {
      "cell_type": "markdown",
      "id": "944ff4c2",
      "metadata": {
        "id": "944ff4c2"
      },
      "source": [
        "![](https://github.com/pumazzo/annotated-transformer/blob/master/images/results.png?raw=1)"
      ]
    },
    {
      "cell_type": "markdown",
      "id": "ca35090c",
      "metadata": {
        "id": "ca35090c"
      },
      "source": [
        "\n",
        "\n",
        "> With the addtional extensions in the last section, the OpenNMT-py\n",
        "> replication gets to 26.9 on EN-DE WMT. Here I have loaded in those\n",
        "> parameters to our reimplemenation."
      ]
    },
    {
      "cell_type": "code",
      "execution_count": null,
      "id": "7377253b",
      "metadata": {
        "execution": {
          "iopub.execute_input": "2022-05-02T01:25:28.722526Z",
          "iopub.status.busy": "2022-05-02T01:25:28.722031Z",
          "iopub.status.idle": "2022-05-02T01:25:28.724231Z",
          "shell.execute_reply": "2022-05-02T01:25:28.723834Z"
        },
        "lines_to_next_cell": 2,
        "id": "7377253b"
      },
      "outputs": [],
      "source": [
        "# Load data and model for output checks"
      ]
    },
    {
      "cell_type": "code",
      "execution_count": null,
      "id": "6deb2571",
      "metadata": {
        "execution": {
          "iopub.execute_input": "2022-05-02T01:25:28.732320Z",
          "iopub.status.busy": "2022-05-02T01:25:28.726845Z",
          "iopub.status.idle": "2022-05-02T01:25:28.742979Z",
          "shell.execute_reply": "2022-05-02T01:25:28.742276Z"
        },
        "lines_to_next_cell": 2,
        "id": "6deb2571"
      },
      "outputs": [],
      "source": [
        "def check_outputs(\n",
        "    valid_dataloader,\n",
        "    model,\n",
        "    vocab_src,\n",
        "    vocab_tgt,\n",
        "    n_examples=15,\n",
        "    pad_idx=2,\n",
        "    eos_string=\"</s>\",\n",
        "):\n",
        "    results = [()] * n_examples\n",
        "    for idx in range(n_examples):\n",
        "        print(\"\\nExample %d ========\\n\" % idx)\n",
        "        b = next(iter(valid_dataloader))\n",
        "        rb = Batch(b[0], b[1], pad_idx)\n",
        "        greedy_decode(model, rb.src, rb.src_mask, 64, 0)[0]\n",
        "\n",
        "        src_tokens = [\n",
        "            vocab_src.get_itos()[x] for x in rb.src[0] if x != pad_idx\n",
        "        ]\n",
        "        tgt_tokens = [\n",
        "            vocab_tgt.get_itos()[x] for x in rb.tgt[0] if x != pad_idx\n",
        "        ]\n",
        "\n",
        "        print(\n",
        "            \"Source Text (Input)        : \"\n",
        "            + \" \".join(src_tokens).replace(\"\\n\", \"\")\n",
        "        )\n",
        "        print(\n",
        "            \"Target Text (Ground Truth) : \"\n",
        "            + \" \".join(tgt_tokens).replace(\"\\n\", \"\")\n",
        "        )\n",
        "        model_out = greedy_decode(model, rb.src, rb.src_mask, 72, 0)[0]\n",
        "        model_txt = (\n",
        "            \" \".join(\n",
        "                [vocab_tgt.get_itos()[x] for x in model_out if x != pad_idx]\n",
        "            ).split(eos_string, 1)[0]\n",
        "            + eos_string\n",
        "        )\n",
        "        print(\"Model Output               : \" + model_txt.replace(\"\\n\", \"\"))\n",
        "        results[idx] = (rb, src_tokens, tgt_tokens, model_out, model_txt)\n",
        "    return results\n",
        "\n",
        "\n",
        "def run_model_example(n_examples=5):\n",
        "    global vocab_src, vocab_tgt, spacy_de, spacy_en\n",
        "\n",
        "    print(\"Preparing Data ...\")\n",
        "    _, valid_dataloader = create_dataloaders(\n",
        "        torch.device(\"cpu\"),\n",
        "        vocab_src,\n",
        "        vocab_tgt,\n",
        "        spacy_de,\n",
        "        spacy_en,\n",
        "        batch_size=1,\n",
        "        is_distributed=False,\n",
        "    )\n",
        "\n",
        "    print(\"Loading Trained Model ...\")\n",
        "\n",
        "    model = make_model(len(vocab_src), len(vocab_tgt), N=6)\n",
        "    model.load_state_dict(\n",
        "        torch.load(\"multi30k_model_final.pt\", map_location=torch.device(\"cpu\"))\n",
        "    )\n",
        "\n",
        "    print(\"Checking Model Outputs:\")\n",
        "    example_data = check_outputs(\n",
        "        valid_dataloader, model, vocab_src, vocab_tgt, n_examples=n_examples\n",
        "    )\n",
        "    return model, example_data\n",
        "\n",
        "\n",
        "# execute_example(run_model_example)"
      ]
    },
    {
      "cell_type": "markdown",
      "id": "2bc9facf",
      "metadata": {
        "id": "2bc9facf"
      },
      "source": [
        "## Attention Visualization\n",
        "\n",
        "> Even with a greedy decoder the translation looks pretty good. We\n",
        "> can further visualize it to see what is happening at each layer of\n",
        "> the attention"
      ]
    },
    {
      "cell_type": "code",
      "execution_count": null,
      "id": "71cf9521",
      "metadata": {
        "execution": {
          "iopub.execute_input": "2022-05-02T01:25:28.753336Z",
          "iopub.status.busy": "2022-05-02T01:25:28.752415Z",
          "iopub.status.idle": "2022-05-02T01:25:28.755185Z",
          "shell.execute_reply": "2022-05-02T01:25:28.754449Z"
        },
        "id": "71cf9521"
      },
      "outputs": [],
      "source": [
        "def mtx2df(m, max_row, max_col, row_tokens, col_tokens):\n",
        "    \"convert a dense matrix to a data frame with row and column indices\"\n",
        "    return pd.DataFrame(\n",
        "        [\n",
        "            (\n",
        "                r,\n",
        "                c,\n",
        "                float(m[r, c]),\n",
        "                \"%.3d %s\"\n",
        "                % (r, row_tokens[r] if len(row_tokens) > r else \"<blank>\"),\n",
        "                \"%.3d %s\"\n",
        "                % (c, col_tokens[c] if len(col_tokens) > c else \"<blank>\"),\n",
        "            )\n",
        "            for r in range(m.shape[0])\n",
        "            for c in range(m.shape[1])\n",
        "            if r < max_row and c < max_col\n",
        "        ],\n",
        "        # if float(m[r,c]) != 0 and r < max_row and c < max_col],\n",
        "        columns=[\"row\", \"column\", \"value\", \"row_token\", \"col_token\"],\n",
        "    )\n",
        "\n",
        "\n",
        "def attn_map(attn, layer, head, row_tokens, col_tokens, max_dim=30):\n",
        "    df = mtx2df(\n",
        "        attn[0, head].data,\n",
        "        max_dim,\n",
        "        max_dim,\n",
        "        row_tokens,\n",
        "        col_tokens,\n",
        "    )\n",
        "    return (\n",
        "        alt.Chart(data=df)\n",
        "        .mark_rect()\n",
        "        .encode(\n",
        "            x=alt.X(\"col_token\", axis=alt.Axis(title=\"\")),\n",
        "            y=alt.Y(\"row_token\", axis=alt.Axis(title=\"\")),\n",
        "            color=\"value\",\n",
        "            tooltip=[\"row\", \"column\", \"value\", \"row_token\", \"col_token\"],\n",
        "        )\n",
        "        .properties(height=400, width=400)\n",
        "        .interactive()\n",
        "    )"
      ]
    },
    {
      "cell_type": "code",
      "execution_count": null,
      "id": "491ee822",
      "metadata": {
        "execution": {
          "iopub.execute_input": "2022-05-02T01:25:28.763849Z",
          "iopub.status.busy": "2022-05-02T01:25:28.762928Z",
          "iopub.status.idle": "2022-05-02T01:25:28.766114Z",
          "shell.execute_reply": "2022-05-02T01:25:28.765381Z"
        },
        "tags": [],
        "id": "491ee822"
      },
      "outputs": [],
      "source": [
        "def get_encoder(model, layer):\n",
        "    return model.encoder.layers[layer].self_attn.attn\n",
        "\n",
        "\n",
        "def get_decoder_self(model, layer):\n",
        "    return model.decoder.layers[layer].self_attn.attn\n",
        "\n",
        "\n",
        "def get_decoder_src(model, layer):\n",
        "    return model.decoder.layers[layer].src_attn.attn\n",
        "\n",
        "\n",
        "def visualize_layer(model, layer, getter_fn, ntokens, row_tokens, col_tokens):\n",
        "    # ntokens = last_example[0].ntokens\n",
        "    attn = getter_fn(model, layer)\n",
        "    n_heads = attn.shape[1]\n",
        "    charts = [\n",
        "        attn_map(\n",
        "            attn,\n",
        "            0,\n",
        "            h,\n",
        "            row_tokens=row_tokens,\n",
        "            col_tokens=col_tokens,\n",
        "            max_dim=ntokens,\n",
        "        )\n",
        "        for h in range(n_heads)\n",
        "    ]\n",
        "    assert n_heads == 8\n",
        "    return alt.vconcat(\n",
        "        charts[0]\n",
        "        # | charts[1]\n",
        "        | charts[2]\n",
        "        # | charts[3]\n",
        "        | charts[4]\n",
        "        # | charts[5]\n",
        "        | charts[6]\n",
        "        # | charts[7]\n",
        "        # layer + 1 due to 0-indexing\n",
        "    ).properties(title=\"Layer %d\" % (layer + 1))"
      ]
    },
    {
      "cell_type": "markdown",
      "id": "9a5de750",
      "metadata": {
        "id": "9a5de750"
      },
      "source": [
        "## Encoder Self Attention"
      ]
    },
    {
      "cell_type": "code",
      "execution_count": null,
      "id": "ad6f1a5c",
      "metadata": {
        "execution": {
          "iopub.execute_input": "2022-05-02T01:25:28.779028Z",
          "iopub.status.busy": "2022-05-02T01:25:28.772162Z",
          "iopub.status.idle": "2022-05-02T01:25:41.856359Z",
          "shell.execute_reply": "2022-05-02T01:25:41.856614Z"
        },
        "tags": [],
        "id": "ad6f1a5c"
      },
      "outputs": [],
      "source": [
        "def viz_encoder_self():\n",
        "    model, example_data = run_model_example(n_examples=1)\n",
        "    example = example_data[\n",
        "        len(example_data) - 1\n",
        "    ]  # batch object for the final example\n",
        "\n",
        "    layer_viz = [\n",
        "        visualize_layer(\n",
        "            model, layer, get_encoder, len(example[1]), example[1], example[1]\n",
        "        )\n",
        "        for layer in range(6)\n",
        "    ]\n",
        "    return alt.hconcat(\n",
        "        layer_viz[0]\n",
        "        # & layer_viz[1]\n",
        "        & layer_viz[2]\n",
        "        # & layer_viz[3]\n",
        "        & layer_viz[4]\n",
        "        # & layer_viz[5]\n",
        "    )\n",
        "\n",
        "\n",
        "show_example(viz_encoder_self)"
      ]
    },
    {
      "cell_type": "markdown",
      "id": "f25f695d",
      "metadata": {
        "id": "f25f695d"
      },
      "source": [
        "## Decoder Self Attention"
      ]
    },
    {
      "cell_type": "code",
      "execution_count": null,
      "id": "e933449d",
      "metadata": {
        "execution": {
          "iopub.execute_input": "2022-05-02T01:25:41.871884Z",
          "iopub.status.busy": "2022-05-02T01:25:41.870065Z",
          "iopub.status.idle": "2022-05-02T01:25:55.723590Z",
          "shell.execute_reply": "2022-05-02T01:25:55.724083Z"
        },
        "tags": [],
        "id": "e933449d"
      },
      "outputs": [],
      "source": [
        "def viz_decoder_self():\n",
        "    model, example_data = run_model_example(n_examples=1)\n",
        "    example = example_data[len(example_data) - 1]\n",
        "\n",
        "    layer_viz = [\n",
        "        visualize_layer(\n",
        "            model,\n",
        "            layer,\n",
        "            get_decoder_self,\n",
        "            len(example[1]),\n",
        "            example[1],\n",
        "            example[1],\n",
        "        )\n",
        "        for layer in range(6)\n",
        "    ]\n",
        "    return alt.hconcat(\n",
        "        layer_viz[0]\n",
        "        & layer_viz[1]\n",
        "        & layer_viz[2]\n",
        "        & layer_viz[3]\n",
        "        & layer_viz[4]\n",
        "        & layer_viz[5]\n",
        "    )\n",
        "\n",
        "\n",
        "show_example(viz_decoder_self)"
      ]
    },
    {
      "cell_type": "markdown",
      "id": "c9c8034b",
      "metadata": {
        "id": "c9c8034b"
      },
      "source": [
        "## Decoder Src Attention"
      ]
    },
    {
      "cell_type": "code",
      "execution_count": null,
      "id": "5492b6d9",
      "metadata": {
        "execution": {
          "iopub.execute_input": "2022-05-02T01:25:55.734026Z",
          "iopub.status.busy": "2022-05-02T01:25:55.733345Z",
          "iopub.status.idle": "2022-05-02T01:26:09.503900Z",
          "shell.execute_reply": "2022-05-02T01:26:09.504315Z"
        },
        "tags": [],
        "id": "5492b6d9"
      },
      "outputs": [],
      "source": [
        "def viz_decoder_src():\n",
        "    model, example_data = run_model_example(n_examples=1)\n",
        "    example = example_data[len(example_data) - 1]\n",
        "\n",
        "    layer_viz = [\n",
        "        visualize_layer(\n",
        "            model,\n",
        "            layer,\n",
        "            get_decoder_src,\n",
        "            max(len(example[1]), len(example[2])),\n",
        "            example[1],\n",
        "            example[2],\n",
        "        )\n",
        "        for layer in range(6)\n",
        "    ]\n",
        "    return alt.hconcat(\n",
        "        layer_viz[0]\n",
        "        & layer_viz[1]\n",
        "        & layer_viz[2]\n",
        "        & layer_viz[3]\n",
        "        & layer_viz[4]\n",
        "        & layer_viz[5]\n",
        "    )\n",
        "\n",
        "\n",
        "show_example(viz_decoder_src)"
      ]
    },
    {
      "cell_type": "markdown",
      "id": "6eb41512",
      "metadata": {
        "id": "6eb41512"
      },
      "source": [
        "# Conclusion\n",
        "\n",
        " Hopefully this code is useful for future research. Please reach\n",
        " out if you have any issues.\n",
        "\n",
        "\n",
        " Cheers,\n",
        " Sasha Rush, Austin Huang, Suraj Subramanian, Jonathan Sum, Khalid Almubarak,\n",
        " Stella Biderman"
      ]
    }
  ],
  "metadata": {
    "jupytext": {
      "encoding": "# -*- coding: utf-8 -*-",
      "formats": "ipynb,py:percent"
    },
    "kernelspec": {
      "display_name": "Python 3 (ipykernel)",
      "language": "python",
      "name": "python3"
    },
    "language_info": {
      "codemirror_mode": {
        "name": "ipython",
        "version": 3
      },
      "file_extension": ".py",
      "mimetype": "text/x-python",
      "name": "python",
      "nbconvert_exporter": "python",
      "pygments_lexer": "ipython3",
      "version": "3.8.10"
    },
    "colab": {
      "provenance": [],
      "include_colab_link": true
    }
  },
  "nbformat": 4,
  "nbformat_minor": 5
}